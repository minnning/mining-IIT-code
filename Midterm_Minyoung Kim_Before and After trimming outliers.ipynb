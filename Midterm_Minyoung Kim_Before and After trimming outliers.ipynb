{
 "cells": [
  {
   "cell_type": "code",
   "execution_count": 1,
   "id": "046c0d60",
   "metadata": {},
   "outputs": [],
   "source": [
    "import pandas as pd\n",
    "from sklearn import preprocessing\n",
    "import numpy as np\n",
    "import matplotlib.pyplot as plt\n",
    "import seaborn as sns"
   ]
  },
  {
   "cell_type": "code",
   "execution_count": 2,
   "id": "0e0b35e6",
   "metadata": {
    "scrolled": false
   },
   "outputs": [
    {
     "data": {
      "text/html": [
       "<div>\n",
       "<style scoped>\n",
       "    .dataframe tbody tr th:only-of-type {\n",
       "        vertical-align: middle;\n",
       "    }\n",
       "\n",
       "    .dataframe tbody tr th {\n",
       "        vertical-align: top;\n",
       "    }\n",
       "\n",
       "    .dataframe thead th {\n",
       "        text-align: right;\n",
       "    }\n",
       "</style>\n",
       "<table border=\"1\" class=\"dataframe\">\n",
       "  <thead>\n",
       "    <tr style=\"text-align: right;\">\n",
       "      <th></th>\n",
       "      <th>Month</th>\n",
       "      <th>Steam</th>\n",
       "      <th>Electricity</th>\n",
       "      <th>CHW</th>\n",
       "    </tr>\n",
       "  </thead>\n",
       "  <tbody>\n",
       "    <tr>\n",
       "      <th>0</th>\n",
       "      <td>1</td>\n",
       "      <td>0</td>\n",
       "      <td>0.00</td>\n",
       "      <td>0</td>\n",
       "    </tr>\n",
       "    <tr>\n",
       "      <th>1</th>\n",
       "      <td>1</td>\n",
       "      <td>0</td>\n",
       "      <td>0.00</td>\n",
       "      <td>0</td>\n",
       "    </tr>\n",
       "    <tr>\n",
       "      <th>2</th>\n",
       "      <td>1</td>\n",
       "      <td>0</td>\n",
       "      <td>0.00</td>\n",
       "      <td>0</td>\n",
       "    </tr>\n",
       "    <tr>\n",
       "      <th>3</th>\n",
       "      <td>1</td>\n",
       "      <td>0</td>\n",
       "      <td>0.00</td>\n",
       "      <td>0</td>\n",
       "    </tr>\n",
       "    <tr>\n",
       "      <th>4</th>\n",
       "      <td>1</td>\n",
       "      <td>0</td>\n",
       "      <td>0.00</td>\n",
       "      <td>0</td>\n",
       "    </tr>\n",
       "    <tr>\n",
       "      <th>...</th>\n",
       "      <td>...</td>\n",
       "      <td>...</td>\n",
       "      <td>...</td>\n",
       "      <td>...</td>\n",
       "    </tr>\n",
       "    <tr>\n",
       "      <th>360</th>\n",
       "      <td>12</td>\n",
       "      <td>5300</td>\n",
       "      <td>3924.95</td>\n",
       "      <td>0</td>\n",
       "    </tr>\n",
       "    <tr>\n",
       "      <th>361</th>\n",
       "      <td>12</td>\n",
       "      <td>13200</td>\n",
       "      <td>4368.64</td>\n",
       "      <td>0</td>\n",
       "    </tr>\n",
       "    <tr>\n",
       "      <th>362</th>\n",
       "      <td>12</td>\n",
       "      <td>14000</td>\n",
       "      <td>4436.90</td>\n",
       "      <td>0</td>\n",
       "    </tr>\n",
       "    <tr>\n",
       "      <th>363</th>\n",
       "      <td>12</td>\n",
       "      <td>20300</td>\n",
       "      <td>4334.51</td>\n",
       "      <td>0</td>\n",
       "    </tr>\n",
       "    <tr>\n",
       "      <th>364</th>\n",
       "      <td>12</td>\n",
       "      <td>22200</td>\n",
       "      <td>4300.38</td>\n",
       "      <td>0</td>\n",
       "    </tr>\n",
       "  </tbody>\n",
       "</table>\n",
       "<p>365 rows × 4 columns</p>\n",
       "</div>"
      ],
      "text/plain": [
       "     Month  Steam  Electricity  CHW\n",
       "0        1      0         0.00    0\n",
       "1        1      0         0.00    0\n",
       "2        1      0         0.00    0\n",
       "3        1      0         0.00    0\n",
       "4        1      0         0.00    0\n",
       "..     ...    ...          ...  ...\n",
       "360     12   5300      3924.95    0\n",
       "361     12  13200      4368.64    0\n",
       "362     12  14000      4436.90    0\n",
       "363     12  20300      4334.51    0\n",
       "364     12  22200      4300.38    0\n",
       "\n",
       "[365 rows x 4 columns]"
      ]
     },
     "execution_count": 2,
     "metadata": {},
     "output_type": "execute_result"
    }
   ],
   "source": [
    "#EUI\n",
    "WH_EUI_2014 = pd.read_excel(\"/Volumes/GoogleDrive/My Drive/#IIT/#Lecture/#2022/#Fall/CAE526 Energy Conservation in Buildings/#Project/Project_1_WH.xlsx\", sheet_name = '2014_Monthly')\n",
    "WH_EUI_2014"
   ]
  },
  {
   "cell_type": "code",
   "execution_count": 3,
   "id": "482715f7",
   "metadata": {},
   "outputs": [
    {
     "data": {
      "text/html": [
       "<div>\n",
       "<style scoped>\n",
       "    .dataframe tbody tr th:only-of-type {\n",
       "        vertical-align: middle;\n",
       "    }\n",
       "\n",
       "    .dataframe tbody tr th {\n",
       "        vertical-align: top;\n",
       "    }\n",
       "\n",
       "    .dataframe thead th {\n",
       "        text-align: right;\n",
       "    }\n",
       "</style>\n",
       "<table border=\"1\" class=\"dataframe\">\n",
       "  <thead>\n",
       "    <tr style=\"text-align: right;\">\n",
       "      <th></th>\n",
       "      <th>Month</th>\n",
       "      <th>Steam</th>\n",
       "      <th>Electricity</th>\n",
       "      <th>CHW</th>\n",
       "    </tr>\n",
       "  </thead>\n",
       "  <tbody>\n",
       "    <tr>\n",
       "      <th>count</th>\n",
       "      <td>365.000000</td>\n",
       "      <td>365.000000</td>\n",
       "      <td>365.000000</td>\n",
       "      <td>365.000000</td>\n",
       "    </tr>\n",
       "    <tr>\n",
       "      <th>mean</th>\n",
       "      <td>6.526027</td>\n",
       "      <td>14728.219178</td>\n",
       "      <td>5497.922219</td>\n",
       "      <td>3908.767123</td>\n",
       "    </tr>\n",
       "    <tr>\n",
       "      <th>std</th>\n",
       "      <td>3.452584</td>\n",
       "      <td>44749.553357</td>\n",
       "      <td>6867.459993</td>\n",
       "      <td>11460.144978</td>\n",
       "    </tr>\n",
       "    <tr>\n",
       "      <th>min</th>\n",
       "      <td>1.000000</td>\n",
       "      <td>0.000000</td>\n",
       "      <td>0.000000</td>\n",
       "      <td>0.000000</td>\n",
       "    </tr>\n",
       "    <tr>\n",
       "      <th>25%</th>\n",
       "      <td>4.000000</td>\n",
       "      <td>100.000000</td>\n",
       "      <td>4880.590000</td>\n",
       "      <td>0.000000</td>\n",
       "    </tr>\n",
       "    <tr>\n",
       "      <th>50%</th>\n",
       "      <td>7.000000</td>\n",
       "      <td>3600.000000</td>\n",
       "      <td>5324.280000</td>\n",
       "      <td>0.000000</td>\n",
       "    </tr>\n",
       "    <tr>\n",
       "      <th>75%</th>\n",
       "      <td>10.000000</td>\n",
       "      <td>22700.000000</td>\n",
       "      <td>5733.840000</td>\n",
       "      <td>5400.000000</td>\n",
       "    </tr>\n",
       "    <tr>\n",
       "      <th>max</th>\n",
       "      <td>12.000000</td>\n",
       "      <td>812300.000000</td>\n",
       "      <td>123960.160000</td>\n",
       "      <td>191900.000000</td>\n",
       "    </tr>\n",
       "  </tbody>\n",
       "</table>\n",
       "</div>"
      ],
      "text/plain": [
       "            Month          Steam    Electricity            CHW\n",
       "count  365.000000     365.000000     365.000000     365.000000\n",
       "mean     6.526027   14728.219178    5497.922219    3908.767123\n",
       "std      3.452584   44749.553357    6867.459993   11460.144978\n",
       "min      1.000000       0.000000       0.000000       0.000000\n",
       "25%      4.000000     100.000000    4880.590000       0.000000\n",
       "50%      7.000000    3600.000000    5324.280000       0.000000\n",
       "75%     10.000000   22700.000000    5733.840000    5400.000000\n",
       "max     12.000000  812300.000000  123960.160000  191900.000000"
      ]
     },
     "execution_count": 3,
     "metadata": {},
     "output_type": "execute_result"
    }
   ],
   "source": [
    "#Detect\n",
    "WH_EUI_2014.describe()"
   ]
  },
  {
   "cell_type": "code",
   "execution_count": 4,
   "id": "c415896e",
   "metadata": {
    "scrolled": false
   },
   "outputs": [
    {
     "data": {
      "text/html": [
       "<div>\n",
       "<style scoped>\n",
       "    .dataframe tbody tr th:only-of-type {\n",
       "        vertical-align: middle;\n",
       "    }\n",
       "\n",
       "    .dataframe tbody tr th {\n",
       "        vertical-align: top;\n",
       "    }\n",
       "\n",
       "    .dataframe thead th {\n",
       "        text-align: right;\n",
       "    }\n",
       "</style>\n",
       "<table border=\"1\" class=\"dataframe\">\n",
       "  <thead>\n",
       "    <tr style=\"text-align: right;\">\n",
       "      <th></th>\n",
       "      <th>Month</th>\n",
       "      <th>Steam</th>\n",
       "      <th>Electricity</th>\n",
       "      <th>CHW</th>\n",
       "      <th>Total Energy Consumption</th>\n",
       "    </tr>\n",
       "  </thead>\n",
       "  <tbody>\n",
       "    <tr>\n",
       "      <th>0</th>\n",
       "      <td>1</td>\n",
       "      <td>0</td>\n",
       "      <td>0.00</td>\n",
       "      <td>0</td>\n",
       "      <td>0.00</td>\n",
       "    </tr>\n",
       "    <tr>\n",
       "      <th>1</th>\n",
       "      <td>1</td>\n",
       "      <td>0</td>\n",
       "      <td>0.00</td>\n",
       "      <td>0</td>\n",
       "      <td>0.00</td>\n",
       "    </tr>\n",
       "    <tr>\n",
       "      <th>2</th>\n",
       "      <td>1</td>\n",
       "      <td>0</td>\n",
       "      <td>0.00</td>\n",
       "      <td>0</td>\n",
       "      <td>0.00</td>\n",
       "    </tr>\n",
       "    <tr>\n",
       "      <th>3</th>\n",
       "      <td>1</td>\n",
       "      <td>0</td>\n",
       "      <td>0.00</td>\n",
       "      <td>0</td>\n",
       "      <td>0.00</td>\n",
       "    </tr>\n",
       "    <tr>\n",
       "      <th>4</th>\n",
       "      <td>1</td>\n",
       "      <td>0</td>\n",
       "      <td>0.00</td>\n",
       "      <td>0</td>\n",
       "      <td>0.00</td>\n",
       "    </tr>\n",
       "    <tr>\n",
       "      <th>...</th>\n",
       "      <td>...</td>\n",
       "      <td>...</td>\n",
       "      <td>...</td>\n",
       "      <td>...</td>\n",
       "      <td>...</td>\n",
       "    </tr>\n",
       "    <tr>\n",
       "      <th>360</th>\n",
       "      <td>12</td>\n",
       "      <td>5300</td>\n",
       "      <td>3924.95</td>\n",
       "      <td>0</td>\n",
       "      <td>9224.95</td>\n",
       "    </tr>\n",
       "    <tr>\n",
       "      <th>361</th>\n",
       "      <td>12</td>\n",
       "      <td>13200</td>\n",
       "      <td>4368.64</td>\n",
       "      <td>0</td>\n",
       "      <td>17568.64</td>\n",
       "    </tr>\n",
       "    <tr>\n",
       "      <th>362</th>\n",
       "      <td>12</td>\n",
       "      <td>14000</td>\n",
       "      <td>4436.90</td>\n",
       "      <td>0</td>\n",
       "      <td>18436.90</td>\n",
       "    </tr>\n",
       "    <tr>\n",
       "      <th>363</th>\n",
       "      <td>12</td>\n",
       "      <td>20300</td>\n",
       "      <td>4334.51</td>\n",
       "      <td>0</td>\n",
       "      <td>24634.51</td>\n",
       "    </tr>\n",
       "    <tr>\n",
       "      <th>364</th>\n",
       "      <td>12</td>\n",
       "      <td>22200</td>\n",
       "      <td>4300.38</td>\n",
       "      <td>0</td>\n",
       "      <td>26500.38</td>\n",
       "    </tr>\n",
       "  </tbody>\n",
       "</table>\n",
       "<p>365 rows × 5 columns</p>\n",
       "</div>"
      ],
      "text/plain": [
       "     Month  Steam  Electricity  CHW  Total Energy Consumption\n",
       "0        1      0         0.00    0                      0.00\n",
       "1        1      0         0.00    0                      0.00\n",
       "2        1      0         0.00    0                      0.00\n",
       "3        1      0         0.00    0                      0.00\n",
       "4        1      0         0.00    0                      0.00\n",
       "..     ...    ...          ...  ...                       ...\n",
       "360     12   5300      3924.95    0                   9224.95\n",
       "361     12  13200      4368.64    0                  17568.64\n",
       "362     12  14000      4436.90    0                  18436.90\n",
       "363     12  20300      4334.51    0                  24634.51\n",
       "364     12  22200      4300.38    0                  26500.38\n",
       "\n",
       "[365 rows x 5 columns]"
      ]
     },
     "execution_count": 4,
     "metadata": {},
     "output_type": "execute_result"
    }
   ],
   "source": [
    "WH_EUI_2014['Total Energy Consumption'] = WH_EUI_2014['Steam'] + WH_EUI_2014['Electricity'] + WH_EUI_2014['CHW']\n",
    "WH_EUI_2014"
   ]
  },
  {
   "cell_type": "code",
   "execution_count": 5,
   "id": "d1f53614",
   "metadata": {},
   "outputs": [
    {
     "data": {
      "text/plain": [
       "Month\n",
       "1     1798983.62\n",
       "2     1305384.89\n",
       "3     1037589.29\n",
       "4      440151.34\n",
       "5      391746.76\n",
       "6      423296.19\n",
       "7      504991.21\n",
       "8      618790.83\n",
       "9      391384.04\n",
       "10     274410.33\n",
       "11     847182.70\n",
       "12     775330.41\n",
       "Name: Total Energy Consumption, dtype: float64"
      ]
     },
     "execution_count": 5,
     "metadata": {},
     "output_type": "execute_result"
    }
   ],
   "source": [
    "WH_EUI_2014.groupby(\"Month\")[\"Total Energy Consumption\"].sum()"
   ]
  },
  {
   "cell_type": "code",
   "execution_count": 6,
   "id": "1e2f9da9",
   "metadata": {},
   "outputs": [],
   "source": [
    "#Remove Outlier\n",
    "def detect_outliers(WH_EUI,columns):\n",
    "    q1=WH_EUI_2014[columns].quantile(0.25)\n",
    "    q3=WH_EUI_2014[columns].quantile(0.75)\n",
    "    iqr=q3-q1\n",
    "    \n",
    "    boundary=1.5*iqr\n",
    "    \n",
    "    index1=WH_EUI_2014[WH_EUI_2014[columns] > q3+boundary].index\n",
    "    index2=WH_EUI_2014[WH_EUI_2014[columns] < q1-boundary].index \n",
    "    \n",
    "    WH_EUI_2014[columns]=WH_EUI_2014[columns].drop(index1)\n",
    "    WH_EUI_2014[columns]=WH_EUI_2014[columns].drop(index2)\n",
    "    \n",
    "    return WH_EUI_2014"
   ]
  },
  {
   "cell_type": "code",
   "execution_count": 7,
   "id": "945dd636",
   "metadata": {},
   "outputs": [
    {
     "data": {
      "text/html": [
       "<div>\n",
       "<style scoped>\n",
       "    .dataframe tbody tr th:only-of-type {\n",
       "        vertical-align: middle;\n",
       "    }\n",
       "\n",
       "    .dataframe tbody tr th {\n",
       "        vertical-align: top;\n",
       "    }\n",
       "\n",
       "    .dataframe thead th {\n",
       "        text-align: right;\n",
       "    }\n",
       "</style>\n",
       "<table border=\"1\" class=\"dataframe\">\n",
       "  <thead>\n",
       "    <tr style=\"text-align: right;\">\n",
       "      <th></th>\n",
       "      <th>Month</th>\n",
       "      <th>Steam</th>\n",
       "      <th>Electricity</th>\n",
       "      <th>CHW</th>\n",
       "      <th>Total Energy Consumption</th>\n",
       "    </tr>\n",
       "  </thead>\n",
       "  <tbody>\n",
       "    <tr>\n",
       "      <th>0</th>\n",
       "      <td>1</td>\n",
       "      <td>0</td>\n",
       "      <td>0.00</td>\n",
       "      <td>0</td>\n",
       "      <td>0.00</td>\n",
       "    </tr>\n",
       "    <tr>\n",
       "      <th>1</th>\n",
       "      <td>1</td>\n",
       "      <td>0</td>\n",
       "      <td>0.00</td>\n",
       "      <td>0</td>\n",
       "      <td>0.00</td>\n",
       "    </tr>\n",
       "    <tr>\n",
       "      <th>2</th>\n",
       "      <td>1</td>\n",
       "      <td>0</td>\n",
       "      <td>0.00</td>\n",
       "      <td>0</td>\n",
       "      <td>0.00</td>\n",
       "    </tr>\n",
       "    <tr>\n",
       "      <th>3</th>\n",
       "      <td>1</td>\n",
       "      <td>0</td>\n",
       "      <td>0.00</td>\n",
       "      <td>0</td>\n",
       "      <td>0.00</td>\n",
       "    </tr>\n",
       "    <tr>\n",
       "      <th>4</th>\n",
       "      <td>1</td>\n",
       "      <td>0</td>\n",
       "      <td>0.00</td>\n",
       "      <td>0</td>\n",
       "      <td>0.00</td>\n",
       "    </tr>\n",
       "    <tr>\n",
       "      <th>...</th>\n",
       "      <td>...</td>\n",
       "      <td>...</td>\n",
       "      <td>...</td>\n",
       "      <td>...</td>\n",
       "      <td>...</td>\n",
       "    </tr>\n",
       "    <tr>\n",
       "      <th>360</th>\n",
       "      <td>12</td>\n",
       "      <td>5300</td>\n",
       "      <td>3924.95</td>\n",
       "      <td>0</td>\n",
       "      <td>9224.95</td>\n",
       "    </tr>\n",
       "    <tr>\n",
       "      <th>361</th>\n",
       "      <td>12</td>\n",
       "      <td>13200</td>\n",
       "      <td>4368.64</td>\n",
       "      <td>0</td>\n",
       "      <td>17568.64</td>\n",
       "    </tr>\n",
       "    <tr>\n",
       "      <th>362</th>\n",
       "      <td>12</td>\n",
       "      <td>14000</td>\n",
       "      <td>4436.90</td>\n",
       "      <td>0</td>\n",
       "      <td>18436.90</td>\n",
       "    </tr>\n",
       "    <tr>\n",
       "      <th>363</th>\n",
       "      <td>12</td>\n",
       "      <td>20300</td>\n",
       "      <td>4334.51</td>\n",
       "      <td>0</td>\n",
       "      <td>24634.51</td>\n",
       "    </tr>\n",
       "    <tr>\n",
       "      <th>364</th>\n",
       "      <td>12</td>\n",
       "      <td>22200</td>\n",
       "      <td>4300.38</td>\n",
       "      <td>0</td>\n",
       "      <td>26500.38</td>\n",
       "    </tr>\n",
       "  </tbody>\n",
       "</table>\n",
       "<p>365 rows × 5 columns</p>\n",
       "</div>"
      ],
      "text/plain": [
       "     Month  Steam  Electricity  CHW  Total Energy Consumption\n",
       "0        1      0         0.00    0                      0.00\n",
       "1        1      0         0.00    0                      0.00\n",
       "2        1      0         0.00    0                      0.00\n",
       "3        1      0         0.00    0                      0.00\n",
       "4        1      0         0.00    0                      0.00\n",
       "..     ...    ...          ...  ...                       ...\n",
       "360     12   5300      3924.95    0                   9224.95\n",
       "361     12  13200      4368.64    0                  17568.64\n",
       "362     12  14000      4436.90    0                  18436.90\n",
       "363     12  20300      4334.51    0                  24634.51\n",
       "364     12  22200      4300.38    0                  26500.38\n",
       "\n",
       "[365 rows x 5 columns]"
      ]
     },
     "execution_count": 7,
     "metadata": {},
     "output_type": "execute_result"
    }
   ],
   "source": [
    "detect_outliers(WH_EUI_2014,'Total Energy Consumption')"
   ]
  },
  {
   "cell_type": "code",
   "execution_count": 8,
   "id": "0bc8c74c",
   "metadata": {},
   "outputs": [
    {
     "data": {
      "text/html": [
       "<div>\n",
       "<style scoped>\n",
       "    .dataframe tbody tr th:only-of-type {\n",
       "        vertical-align: middle;\n",
       "    }\n",
       "\n",
       "    .dataframe tbody tr th {\n",
       "        vertical-align: top;\n",
       "    }\n",
       "\n",
       "    .dataframe thead th {\n",
       "        text-align: right;\n",
       "    }\n",
       "</style>\n",
       "<table border=\"1\" class=\"dataframe\">\n",
       "  <thead>\n",
       "    <tr style=\"text-align: right;\">\n",
       "      <th></th>\n",
       "      <th>Month</th>\n",
       "      <th>Steam</th>\n",
       "      <th>Electricity</th>\n",
       "      <th>CHW</th>\n",
       "      <th>Total Energy Consumption</th>\n",
       "    </tr>\n",
       "  </thead>\n",
       "  <tbody>\n",
       "    <tr>\n",
       "      <th>count</th>\n",
       "      <td>365.000000</td>\n",
       "      <td>365.000000</td>\n",
       "      <td>365.000000</td>\n",
       "      <td>365.000000</td>\n",
       "      <td>361.000000</td>\n",
       "    </tr>\n",
       "    <tr>\n",
       "      <th>mean</th>\n",
       "      <td>6.526027</td>\n",
       "      <td>14728.219178</td>\n",
       "      <td>5497.922219</td>\n",
       "      <td>3908.767123</td>\n",
       "      <td>20928.585900</td>\n",
       "    </tr>\n",
       "    <tr>\n",
       "      <th>std</th>\n",
       "      <td>3.452584</td>\n",
       "      <td>44749.553357</td>\n",
       "      <td>6867.459993</td>\n",
       "      <td>11460.144978</td>\n",
       "      <td>14778.227516</td>\n",
       "    </tr>\n",
       "    <tr>\n",
       "      <th>min</th>\n",
       "      <td>1.000000</td>\n",
       "      <td>0.000000</td>\n",
       "      <td>0.000000</td>\n",
       "      <td>0.000000</td>\n",
       "      <td>0.000000</td>\n",
       "    </tr>\n",
       "    <tr>\n",
       "      <th>25%</th>\n",
       "      <td>4.000000</td>\n",
       "      <td>100.000000</td>\n",
       "      <td>4880.590000</td>\n",
       "      <td>0.000000</td>\n",
       "      <td>9497.320000</td>\n",
       "    </tr>\n",
       "    <tr>\n",
       "      <th>50%</th>\n",
       "      <td>7.000000</td>\n",
       "      <td>3600.000000</td>\n",
       "      <td>5324.280000</td>\n",
       "      <td>0.000000</td>\n",
       "      <td>17694.930000</td>\n",
       "    </tr>\n",
       "    <tr>\n",
       "      <th>75%</th>\n",
       "      <td>10.000000</td>\n",
       "      <td>22700.000000</td>\n",
       "      <td>5733.840000</td>\n",
       "      <td>5400.000000</td>\n",
       "      <td>28399.710000</td>\n",
       "    </tr>\n",
       "    <tr>\n",
       "      <th>max</th>\n",
       "      <td>12.000000</td>\n",
       "      <td>812300.000000</td>\n",
       "      <td>123960.160000</td>\n",
       "      <td>191900.000000</td>\n",
       "      <td>57175.140000</td>\n",
       "    </tr>\n",
       "  </tbody>\n",
       "</table>\n",
       "</div>"
      ],
      "text/plain": [
       "            Month          Steam    Electricity            CHW  \\\n",
       "count  365.000000     365.000000     365.000000     365.000000   \n",
       "mean     6.526027   14728.219178    5497.922219    3908.767123   \n",
       "std      3.452584   44749.553357    6867.459993   11460.144978   \n",
       "min      1.000000       0.000000       0.000000       0.000000   \n",
       "25%      4.000000     100.000000    4880.590000       0.000000   \n",
       "50%      7.000000    3600.000000    5324.280000       0.000000   \n",
       "75%     10.000000   22700.000000    5733.840000    5400.000000   \n",
       "max     12.000000  812300.000000  123960.160000  191900.000000   \n",
       "\n",
       "       Total Energy Consumption  \n",
       "count                361.000000  \n",
       "mean               20928.585900  \n",
       "std                14778.227516  \n",
       "min                    0.000000  \n",
       "25%                 9497.320000  \n",
       "50%                17694.930000  \n",
       "75%                28399.710000  \n",
       "max                57175.140000  "
      ]
     },
     "execution_count": 8,
     "metadata": {},
     "output_type": "execute_result"
    }
   ],
   "source": [
    "#Detect\n",
    "WH_EUI_2014.describe()"
   ]
  },
  {
   "cell_type": "code",
   "execution_count": 9,
   "id": "65ab2d06",
   "metadata": {},
   "outputs": [
    {
     "data": {
      "text/plain": [
       "Month\n",
       "1      743273.18\n",
       "2     1305384.89\n",
       "3     1037589.29\n",
       "4      440151.34\n",
       "5      391746.76\n",
       "6      423296.19\n",
       "7      504991.21\n",
       "8      420479.17\n",
       "9      391384.04\n",
       "10     274410.33\n",
       "11     847182.70\n",
       "12     775330.41\n",
       "Name: Total Energy Consumption, dtype: float64"
      ]
     },
     "execution_count": 9,
     "metadata": {},
     "output_type": "execute_result"
    }
   ],
   "source": [
    "WH_EUI_2014.groupby(\"Month\")[\"Total Energy Consumption\"].sum()"
   ]
  },
  {
   "cell_type": "code",
   "execution_count": null,
   "id": "93adbb65",
   "metadata": {},
   "outputs": [],
   "source": []
  },
  {
   "cell_type": "code",
   "execution_count": 10,
   "id": "4b41f226",
   "metadata": {},
   "outputs": [
    {
     "data": {
      "text/html": [
       "<div>\n",
       "<style scoped>\n",
       "    .dataframe tbody tr th:only-of-type {\n",
       "        vertical-align: middle;\n",
       "    }\n",
       "\n",
       "    .dataframe tbody tr th {\n",
       "        vertical-align: top;\n",
       "    }\n",
       "\n",
       "    .dataframe thead th {\n",
       "        text-align: right;\n",
       "    }\n",
       "</style>\n",
       "<table border=\"1\" class=\"dataframe\">\n",
       "  <thead>\n",
       "    <tr style=\"text-align: right;\">\n",
       "      <th></th>\n",
       "      <th>Month</th>\n",
       "      <th>Steam</th>\n",
       "      <th>Electricity</th>\n",
       "      <th>CHW</th>\n",
       "    </tr>\n",
       "  </thead>\n",
       "  <tbody>\n",
       "    <tr>\n",
       "      <th>0</th>\n",
       "      <td>1</td>\n",
       "      <td>0</td>\n",
       "      <td>6481.287</td>\n",
       "      <td>0</td>\n",
       "    </tr>\n",
       "    <tr>\n",
       "      <th>1</th>\n",
       "      <td>1</td>\n",
       "      <td>15576</td>\n",
       "      <td>6512.004</td>\n",
       "      <td>0</td>\n",
       "    </tr>\n",
       "    <tr>\n",
       "      <th>2</th>\n",
       "      <td>1</td>\n",
       "      <td>28312</td>\n",
       "      <td>6542.721</td>\n",
       "      <td>0</td>\n",
       "    </tr>\n",
       "    <tr>\n",
       "      <th>3</th>\n",
       "      <td>1</td>\n",
       "      <td>33760</td>\n",
       "      <td>6286.746</td>\n",
       "      <td>0</td>\n",
       "    </tr>\n",
       "    <tr>\n",
       "      <th>4</th>\n",
       "      <td>1</td>\n",
       "      <td>31152</td>\n",
       "      <td>6372.071</td>\n",
       "      <td>0</td>\n",
       "    </tr>\n",
       "    <tr>\n",
       "      <th>...</th>\n",
       "      <td>...</td>\n",
       "      <td>...</td>\n",
       "      <td>...</td>\n",
       "      <td>...</td>\n",
       "    </tr>\n",
       "    <tr>\n",
       "      <th>361</th>\n",
       "      <td>12</td>\n",
       "      <td>17768</td>\n",
       "      <td>5761.144</td>\n",
       "      <td>0</td>\n",
       "    </tr>\n",
       "    <tr>\n",
       "      <th>362</th>\n",
       "      <td>12</td>\n",
       "      <td>23800</td>\n",
       "      <td>5924.968</td>\n",
       "      <td>0</td>\n",
       "    </tr>\n",
       "    <tr>\n",
       "      <th>363</th>\n",
       "      <td>12</td>\n",
       "      <td>28940</td>\n",
       "      <td>5904.490</td>\n",
       "      <td>0</td>\n",
       "    </tr>\n",
       "    <tr>\n",
       "      <th>364</th>\n",
       "      <td>12</td>\n",
       "      <td>24340</td>\n",
       "      <td>5972.750</td>\n",
       "      <td>0</td>\n",
       "    </tr>\n",
       "    <tr>\n",
       "      <th>365</th>\n",
       "      <td>12</td>\n",
       "      <td>28648</td>\n",
       "      <td>5853.295</td>\n",
       "      <td>0</td>\n",
       "    </tr>\n",
       "  </tbody>\n",
       "</table>\n",
       "<p>366 rows × 4 columns</p>\n",
       "</div>"
      ],
      "text/plain": [
       "     Month  Steam  Electricity  CHW\n",
       "0        1      0     6481.287    0\n",
       "1        1  15576     6512.004    0\n",
       "2        1  28312     6542.721    0\n",
       "3        1  33760     6286.746    0\n",
       "4        1  31152     6372.071    0\n",
       "..     ...    ...          ...  ...\n",
       "361     12  17768     5761.144    0\n",
       "362     12  23800     5924.968    0\n",
       "363     12  28940     5904.490    0\n",
       "364     12  24340     5972.750    0\n",
       "365     12  28648     5853.295    0\n",
       "\n",
       "[366 rows x 4 columns]"
      ]
     },
     "execution_count": 10,
     "metadata": {},
     "output_type": "execute_result"
    }
   ],
   "source": [
    "#2020\n",
    "WH_EUI_2020 = pd.read_excel(\"/Volumes/GoogleDrive/My Drive/#IIT/#Lecture/#2022/#Fall/CAE526 Energy Conservation in Buildings/#Project/Project_1_WH.xlsx\", sheet_name = '2020_Monthly')\n",
    "WH_EUI_2020"
   ]
  },
  {
   "cell_type": "code",
   "execution_count": 11,
   "id": "5b6db0a7",
   "metadata": {},
   "outputs": [
    {
     "data": {
      "text/html": [
       "<div>\n",
       "<style scoped>\n",
       "    .dataframe tbody tr th:only-of-type {\n",
       "        vertical-align: middle;\n",
       "    }\n",
       "\n",
       "    .dataframe tbody tr th {\n",
       "        vertical-align: top;\n",
       "    }\n",
       "\n",
       "    .dataframe thead th {\n",
       "        text-align: right;\n",
       "    }\n",
       "</style>\n",
       "<table border=\"1\" class=\"dataframe\">\n",
       "  <thead>\n",
       "    <tr style=\"text-align: right;\">\n",
       "      <th></th>\n",
       "      <th>Month</th>\n",
       "      <th>Steam</th>\n",
       "      <th>Electricity</th>\n",
       "      <th>CHW</th>\n",
       "    </tr>\n",
       "  </thead>\n",
       "  <tbody>\n",
       "    <tr>\n",
       "      <th>count</th>\n",
       "      <td>366.000000</td>\n",
       "      <td>3.660000e+02</td>\n",
       "      <td>3.660000e+02</td>\n",
       "      <td>3.660000e+02</td>\n",
       "    </tr>\n",
       "    <tr>\n",
       "      <th>mean</th>\n",
       "      <td>6.513661</td>\n",
       "      <td>1.017698e+04</td>\n",
       "      <td>5.602514e+03</td>\n",
       "      <td>3.785574e+04</td>\n",
       "    </tr>\n",
       "    <tr>\n",
       "      <th>std</th>\n",
       "      <td>3.455958</td>\n",
       "      <td>8.917384e+06</td>\n",
       "      <td>4.170673e+06</td>\n",
       "      <td>3.896612e+07</td>\n",
       "    </tr>\n",
       "    <tr>\n",
       "      <th>min</th>\n",
       "      <td>1.000000</td>\n",
       "      <td>-4.341324e+07</td>\n",
       "      <td>-2.096498e+07</td>\n",
       "      <td>-1.973508e+08</td>\n",
       "    </tr>\n",
       "    <tr>\n",
       "      <th>25%</th>\n",
       "      <td>4.000000</td>\n",
       "      <td>0.000000e+00</td>\n",
       "      <td>4.229560e+03</td>\n",
       "      <td>0.000000e+00</td>\n",
       "    </tr>\n",
       "    <tr>\n",
       "      <th>50%</th>\n",
       "      <td>7.000000</td>\n",
       "      <td>0.000000e+00</td>\n",
       "      <td>5.409605e+03</td>\n",
       "      <td>0.000000e+00</td>\n",
       "    </tr>\n",
       "    <tr>\n",
       "      <th>75%</th>\n",
       "      <td>9.750000</td>\n",
       "      <td>1.890600e+04</td>\n",
       "      <td>6.180943e+03</td>\n",
       "      <td>2.340000e+04</td>\n",
       "    </tr>\n",
       "    <tr>\n",
       "      <th>max</th>\n",
       "      <td>12.000000</td>\n",
       "      <td>4.354483e+07</td>\n",
       "      <td>2.103139e+07</td>\n",
       "      <td>1.973508e+08</td>\n",
       "    </tr>\n",
       "  </tbody>\n",
       "</table>\n",
       "</div>"
      ],
      "text/plain": [
       "            Month         Steam   Electricity           CHW\n",
       "count  366.000000  3.660000e+02  3.660000e+02  3.660000e+02\n",
       "mean     6.513661  1.017698e+04  5.602514e+03  3.785574e+04\n",
       "std      3.455958  8.917384e+06  4.170673e+06  3.896612e+07\n",
       "min      1.000000 -4.341324e+07 -2.096498e+07 -1.973508e+08\n",
       "25%      4.000000  0.000000e+00  4.229560e+03  0.000000e+00\n",
       "50%      7.000000  0.000000e+00  5.409605e+03  0.000000e+00\n",
       "75%      9.750000  1.890600e+04  6.180943e+03  2.340000e+04\n",
       "max     12.000000  4.354483e+07  2.103139e+07  1.973508e+08"
      ]
     },
     "execution_count": 11,
     "metadata": {},
     "output_type": "execute_result"
    }
   ],
   "source": [
    "#Detect\n",
    "WH_EUI_2020.describe()"
   ]
  },
  {
   "cell_type": "code",
   "execution_count": 12,
   "id": "0681bcb1",
   "metadata": {},
   "outputs": [
    {
     "data": {
      "text/html": [
       "<div>\n",
       "<style scoped>\n",
       "    .dataframe tbody tr th:only-of-type {\n",
       "        vertical-align: middle;\n",
       "    }\n",
       "\n",
       "    .dataframe tbody tr th {\n",
       "        vertical-align: top;\n",
       "    }\n",
       "\n",
       "    .dataframe thead th {\n",
       "        text-align: right;\n",
       "    }\n",
       "</style>\n",
       "<table border=\"1\" class=\"dataframe\">\n",
       "  <thead>\n",
       "    <tr style=\"text-align: right;\">\n",
       "      <th></th>\n",
       "      <th>Month</th>\n",
       "      <th>Steam</th>\n",
       "      <th>Electricity</th>\n",
       "      <th>CHW</th>\n",
       "      <th>Total Energy Consumption</th>\n",
       "    </tr>\n",
       "  </thead>\n",
       "  <tbody>\n",
       "    <tr>\n",
       "      <th>0</th>\n",
       "      <td>1</td>\n",
       "      <td>0</td>\n",
       "      <td>6481.287</td>\n",
       "      <td>0</td>\n",
       "      <td>6481.287</td>\n",
       "    </tr>\n",
       "    <tr>\n",
       "      <th>1</th>\n",
       "      <td>1</td>\n",
       "      <td>15576</td>\n",
       "      <td>6512.004</td>\n",
       "      <td>0</td>\n",
       "      <td>22088.004</td>\n",
       "    </tr>\n",
       "    <tr>\n",
       "      <th>2</th>\n",
       "      <td>1</td>\n",
       "      <td>28312</td>\n",
       "      <td>6542.721</td>\n",
       "      <td>0</td>\n",
       "      <td>34854.721</td>\n",
       "    </tr>\n",
       "    <tr>\n",
       "      <th>3</th>\n",
       "      <td>1</td>\n",
       "      <td>33760</td>\n",
       "      <td>6286.746</td>\n",
       "      <td>0</td>\n",
       "      <td>40046.746</td>\n",
       "    </tr>\n",
       "    <tr>\n",
       "      <th>4</th>\n",
       "      <td>1</td>\n",
       "      <td>31152</td>\n",
       "      <td>6372.071</td>\n",
       "      <td>0</td>\n",
       "      <td>37524.071</td>\n",
       "    </tr>\n",
       "    <tr>\n",
       "      <th>...</th>\n",
       "      <td>...</td>\n",
       "      <td>...</td>\n",
       "      <td>...</td>\n",
       "      <td>...</td>\n",
       "      <td>...</td>\n",
       "    </tr>\n",
       "    <tr>\n",
       "      <th>361</th>\n",
       "      <td>12</td>\n",
       "      <td>17768</td>\n",
       "      <td>5761.144</td>\n",
       "      <td>0</td>\n",
       "      <td>23529.144</td>\n",
       "    </tr>\n",
       "    <tr>\n",
       "      <th>362</th>\n",
       "      <td>12</td>\n",
       "      <td>23800</td>\n",
       "      <td>5924.968</td>\n",
       "      <td>0</td>\n",
       "      <td>29724.968</td>\n",
       "    </tr>\n",
       "    <tr>\n",
       "      <th>363</th>\n",
       "      <td>12</td>\n",
       "      <td>28940</td>\n",
       "      <td>5904.490</td>\n",
       "      <td>0</td>\n",
       "      <td>34844.490</td>\n",
       "    </tr>\n",
       "    <tr>\n",
       "      <th>364</th>\n",
       "      <td>12</td>\n",
       "      <td>24340</td>\n",
       "      <td>5972.750</td>\n",
       "      <td>0</td>\n",
       "      <td>30312.750</td>\n",
       "    </tr>\n",
       "    <tr>\n",
       "      <th>365</th>\n",
       "      <td>12</td>\n",
       "      <td>28648</td>\n",
       "      <td>5853.295</td>\n",
       "      <td>0</td>\n",
       "      <td>34501.295</td>\n",
       "    </tr>\n",
       "  </tbody>\n",
       "</table>\n",
       "<p>366 rows × 5 columns</p>\n",
       "</div>"
      ],
      "text/plain": [
       "     Month  Steam  Electricity  CHW  Total Energy Consumption\n",
       "0        1      0     6481.287    0                  6481.287\n",
       "1        1  15576     6512.004    0                 22088.004\n",
       "2        1  28312     6542.721    0                 34854.721\n",
       "3        1  33760     6286.746    0                 40046.746\n",
       "4        1  31152     6372.071    0                 37524.071\n",
       "..     ...    ...          ...  ...                       ...\n",
       "361     12  17768     5761.144    0                 23529.144\n",
       "362     12  23800     5924.968    0                 29724.968\n",
       "363     12  28940     5904.490    0                 34844.490\n",
       "364     12  24340     5972.750    0                 30312.750\n",
       "365     12  28648     5853.295    0                 34501.295\n",
       "\n",
       "[366 rows x 5 columns]"
      ]
     },
     "execution_count": 12,
     "metadata": {},
     "output_type": "execute_result"
    }
   ],
   "source": [
    "WH_EUI_2020['Total Energy Consumption'] = WH_EUI_2020['Steam'] + WH_EUI_2020['Electricity'] + WH_EUI_2020['CHW']\n",
    "WH_EUI_2020"
   ]
  },
  {
   "cell_type": "code",
   "execution_count": 13,
   "id": "da8abf0e",
   "metadata": {},
   "outputs": [],
   "source": [
    "#Remove Outlier\n",
    "def detect_outliers(WH_EUI,columns):\n",
    "    q1=WH_EUI_2020[columns].quantile(0.25)\n",
    "    q3=WH_EUI_2020[columns].quantile(0.75)\n",
    "    iqr=q3-q1\n",
    "    \n",
    "    boundary=1.5*iqr\n",
    "    \n",
    "    index1=WH_EUI_2020[WH_EUI_2020[columns] > q3+boundary].index\n",
    "    index2=WH_EUI_2020[WH_EUI_2020[columns] < q1-boundary].index \n",
    "    \n",
    "    WH_EUI_2020[columns]=WH_EUI_2020[columns].drop(index1)\n",
    "    WH_EUI_2020[columns]=WH_EUI_2020[columns].drop(index2)\n",
    "    \n",
    "    return WH_EUI_2020"
   ]
  },
  {
   "cell_type": "code",
   "execution_count": 14,
   "id": "8d9e4234",
   "metadata": {},
   "outputs": [
    {
     "data": {
      "text/html": [
       "<div>\n",
       "<style scoped>\n",
       "    .dataframe tbody tr th:only-of-type {\n",
       "        vertical-align: middle;\n",
       "    }\n",
       "\n",
       "    .dataframe tbody tr th {\n",
       "        vertical-align: top;\n",
       "    }\n",
       "\n",
       "    .dataframe thead th {\n",
       "        text-align: right;\n",
       "    }\n",
       "</style>\n",
       "<table border=\"1\" class=\"dataframe\">\n",
       "  <thead>\n",
       "    <tr style=\"text-align: right;\">\n",
       "      <th></th>\n",
       "      <th>Month</th>\n",
       "      <th>Steam</th>\n",
       "      <th>Electricity</th>\n",
       "      <th>CHW</th>\n",
       "      <th>Total Energy Consumption</th>\n",
       "    </tr>\n",
       "  </thead>\n",
       "  <tbody>\n",
       "    <tr>\n",
       "      <th>0</th>\n",
       "      <td>1</td>\n",
       "      <td>0</td>\n",
       "      <td>6481.287</td>\n",
       "      <td>0</td>\n",
       "      <td>6481.287</td>\n",
       "    </tr>\n",
       "    <tr>\n",
       "      <th>1</th>\n",
       "      <td>1</td>\n",
       "      <td>15576</td>\n",
       "      <td>6512.004</td>\n",
       "      <td>0</td>\n",
       "      <td>22088.004</td>\n",
       "    </tr>\n",
       "    <tr>\n",
       "      <th>2</th>\n",
       "      <td>1</td>\n",
       "      <td>28312</td>\n",
       "      <td>6542.721</td>\n",
       "      <td>0</td>\n",
       "      <td>34854.721</td>\n",
       "    </tr>\n",
       "    <tr>\n",
       "      <th>3</th>\n",
       "      <td>1</td>\n",
       "      <td>33760</td>\n",
       "      <td>6286.746</td>\n",
       "      <td>0</td>\n",
       "      <td>40046.746</td>\n",
       "    </tr>\n",
       "    <tr>\n",
       "      <th>4</th>\n",
       "      <td>1</td>\n",
       "      <td>31152</td>\n",
       "      <td>6372.071</td>\n",
       "      <td>0</td>\n",
       "      <td>37524.071</td>\n",
       "    </tr>\n",
       "    <tr>\n",
       "      <th>...</th>\n",
       "      <td>...</td>\n",
       "      <td>...</td>\n",
       "      <td>...</td>\n",
       "      <td>...</td>\n",
       "      <td>...</td>\n",
       "    </tr>\n",
       "    <tr>\n",
       "      <th>361</th>\n",
       "      <td>12</td>\n",
       "      <td>17768</td>\n",
       "      <td>5761.144</td>\n",
       "      <td>0</td>\n",
       "      <td>23529.144</td>\n",
       "    </tr>\n",
       "    <tr>\n",
       "      <th>362</th>\n",
       "      <td>12</td>\n",
       "      <td>23800</td>\n",
       "      <td>5924.968</td>\n",
       "      <td>0</td>\n",
       "      <td>29724.968</td>\n",
       "    </tr>\n",
       "    <tr>\n",
       "      <th>363</th>\n",
       "      <td>12</td>\n",
       "      <td>28940</td>\n",
       "      <td>5904.490</td>\n",
       "      <td>0</td>\n",
       "      <td>34844.490</td>\n",
       "    </tr>\n",
       "    <tr>\n",
       "      <th>364</th>\n",
       "      <td>12</td>\n",
       "      <td>24340</td>\n",
       "      <td>5972.750</td>\n",
       "      <td>0</td>\n",
       "      <td>30312.750</td>\n",
       "    </tr>\n",
       "    <tr>\n",
       "      <th>365</th>\n",
       "      <td>12</td>\n",
       "      <td>28648</td>\n",
       "      <td>5853.295</td>\n",
       "      <td>0</td>\n",
       "      <td>34501.295</td>\n",
       "    </tr>\n",
       "  </tbody>\n",
       "</table>\n",
       "<p>366 rows × 5 columns</p>\n",
       "</div>"
      ],
      "text/plain": [
       "     Month  Steam  Electricity  CHW  Total Energy Consumption\n",
       "0        1      0     6481.287    0                  6481.287\n",
       "1        1  15576     6512.004    0                 22088.004\n",
       "2        1  28312     6542.721    0                 34854.721\n",
       "3        1  33760     6286.746    0                 40046.746\n",
       "4        1  31152     6372.071    0                 37524.071\n",
       "..     ...    ...          ...  ...                       ...\n",
       "361     12  17768     5761.144    0                 23529.144\n",
       "362     12  23800     5924.968    0                 29724.968\n",
       "363     12  28940     5904.490    0                 34844.490\n",
       "364     12  24340     5972.750    0                 30312.750\n",
       "365     12  28648     5853.295    0                 34501.295\n",
       "\n",
       "[366 rows x 5 columns]"
      ]
     },
     "execution_count": 14,
     "metadata": {},
     "output_type": "execute_result"
    }
   ],
   "source": [
    "detect_outliers(WH_EUI_2020,'Total Energy Consumption')"
   ]
  },
  {
   "cell_type": "code",
   "execution_count": 15,
   "id": "55a257b8",
   "metadata": {},
   "outputs": [
    {
     "data": {
      "text/plain": [
       "Month\n",
       "1      994306.580\n",
       "2      713086.892\n",
       "3      722105.320\n",
       "4      192350.971\n",
       "5      473651.980\n",
       "6     1350730.032\n",
       "7           0.000\n",
       "8      385805.693\n",
       "9     1164750.119\n",
       "10     640210.538\n",
       "11     232253.860\n",
       "12     864899.225\n",
       "Name: Total Energy Consumption, dtype: float64"
      ]
     },
     "execution_count": 15,
     "metadata": {},
     "output_type": "execute_result"
    }
   ],
   "source": [
    "WH_EUI_2020.groupby(\"Month\")[\"Total Energy Consumption\"].sum()"
   ]
  },
  {
   "cell_type": "code",
   "execution_count": null,
   "id": "c61da5d8",
   "metadata": {},
   "outputs": [],
   "source": []
  },
  {
   "cell_type": "code",
   "execution_count": 16,
   "id": "11ab8736",
   "metadata": {},
   "outputs": [
    {
     "data": {
      "text/html": [
       "<div>\n",
       "<style scoped>\n",
       "    .dataframe tbody tr th:only-of-type {\n",
       "        vertical-align: middle;\n",
       "    }\n",
       "\n",
       "    .dataframe tbody tr th {\n",
       "        vertical-align: top;\n",
       "    }\n",
       "\n",
       "    .dataframe thead th {\n",
       "        text-align: right;\n",
       "    }\n",
       "</style>\n",
       "<table border=\"1\" class=\"dataframe\">\n",
       "  <thead>\n",
       "    <tr style=\"text-align: right;\">\n",
       "      <th></th>\n",
       "      <th>Month</th>\n",
       "      <th>Steam</th>\n",
       "      <th>Electricity</th>\n",
       "      <th>CHW</th>\n",
       "    </tr>\n",
       "  </thead>\n",
       "  <tbody>\n",
       "    <tr>\n",
       "      <th>0</th>\n",
       "      <td>1</td>\n",
       "      <td>25040</td>\n",
       "      <td>5689.471</td>\n",
       "      <td>0</td>\n",
       "    </tr>\n",
       "    <tr>\n",
       "      <th>1</th>\n",
       "      <td>1</td>\n",
       "      <td>21712</td>\n",
       "      <td>5737.253</td>\n",
       "      <td>0</td>\n",
       "    </tr>\n",
       "    <tr>\n",
       "      <th>2</th>\n",
       "      <td>1</td>\n",
       "      <td>23000</td>\n",
       "      <td>5754.318</td>\n",
       "      <td>0</td>\n",
       "    </tr>\n",
       "    <tr>\n",
       "      <th>3</th>\n",
       "      <td>1</td>\n",
       "      <td>31580</td>\n",
       "      <td>6256.029</td>\n",
       "      <td>0</td>\n",
       "    </tr>\n",
       "    <tr>\n",
       "      <th>4</th>\n",
       "      <td>1</td>\n",
       "      <td>26412</td>\n",
       "      <td>6293.572</td>\n",
       "      <td>0</td>\n",
       "    </tr>\n",
       "    <tr>\n",
       "      <th>...</th>\n",
       "      <td>...</td>\n",
       "      <td>...</td>\n",
       "      <td>...</td>\n",
       "      <td>...</td>\n",
       "    </tr>\n",
       "    <tr>\n",
       "      <th>360</th>\n",
       "      <td>12</td>\n",
       "      <td>0</td>\n",
       "      <td>0.000</td>\n",
       "      <td>0</td>\n",
       "    </tr>\n",
       "    <tr>\n",
       "      <th>361</th>\n",
       "      <td>12</td>\n",
       "      <td>0</td>\n",
       "      <td>0.000</td>\n",
       "      <td>0</td>\n",
       "    </tr>\n",
       "    <tr>\n",
       "      <th>362</th>\n",
       "      <td>12</td>\n",
       "      <td>0</td>\n",
       "      <td>0.000</td>\n",
       "      <td>0</td>\n",
       "    </tr>\n",
       "    <tr>\n",
       "      <th>363</th>\n",
       "      <td>12</td>\n",
       "      <td>0</td>\n",
       "      <td>0.000</td>\n",
       "      <td>0</td>\n",
       "    </tr>\n",
       "    <tr>\n",
       "      <th>364</th>\n",
       "      <td>12</td>\n",
       "      <td>0</td>\n",
       "      <td>0.000</td>\n",
       "      <td>0</td>\n",
       "    </tr>\n",
       "  </tbody>\n",
       "</table>\n",
       "<p>365 rows × 4 columns</p>\n",
       "</div>"
      ],
      "text/plain": [
       "     Month  Steam  Electricity  CHW\n",
       "0        1  25040     5689.471    0\n",
       "1        1  21712     5737.253    0\n",
       "2        1  23000     5754.318    0\n",
       "3        1  31580     6256.029    0\n",
       "4        1  26412     6293.572    0\n",
       "..     ...    ...          ...  ...\n",
       "360     12      0        0.000    0\n",
       "361     12      0        0.000    0\n",
       "362     12      0        0.000    0\n",
       "363     12      0        0.000    0\n",
       "364     12      0        0.000    0\n",
       "\n",
       "[365 rows x 4 columns]"
      ]
     },
     "execution_count": 16,
     "metadata": {},
     "output_type": "execute_result"
    }
   ],
   "source": [
    "WH_EUI_2021 = pd.read_excel(\"/Volumes/GoogleDrive/My Drive/#IIT/#Lecture/#2022/#Fall/CAE526 Energy Conservation in Buildings/#Project/Project_1_WH.xlsx\", sheet_name = '2021_Monthly')\n",
    "WH_EUI_2021"
   ]
  },
  {
   "cell_type": "code",
   "execution_count": 17,
   "id": "b912fc74",
   "metadata": {},
   "outputs": [
    {
     "data": {
      "text/html": [
       "<div>\n",
       "<style scoped>\n",
       "    .dataframe tbody tr th:only-of-type {\n",
       "        vertical-align: middle;\n",
       "    }\n",
       "\n",
       "    .dataframe tbody tr th {\n",
       "        vertical-align: top;\n",
       "    }\n",
       "\n",
       "    .dataframe thead th {\n",
       "        text-align: right;\n",
       "    }\n",
       "</style>\n",
       "<table border=\"1\" class=\"dataframe\">\n",
       "  <thead>\n",
       "    <tr style=\"text-align: right;\">\n",
       "      <th></th>\n",
       "      <th>Month</th>\n",
       "      <th>Steam</th>\n",
       "      <th>Electricity</th>\n",
       "      <th>CHW</th>\n",
       "    </tr>\n",
       "  </thead>\n",
       "  <tbody>\n",
       "    <tr>\n",
       "      <th>count</th>\n",
       "      <td>365.000000</td>\n",
       "      <td>3.650000e+02</td>\n",
       "      <td>3.650000e+02</td>\n",
       "      <td>3.650000e+02</td>\n",
       "    </tr>\n",
       "    <tr>\n",
       "      <th>mean</th>\n",
       "      <td>6.526027</td>\n",
       "      <td>-1.212316e+05</td>\n",
       "      <td>-5.814510e+04</td>\n",
       "      <td>-5.406871e+05</td>\n",
       "    </tr>\n",
       "    <tr>\n",
       "      <th>std</th>\n",
       "      <td>3.452584</td>\n",
       "      <td>6.513091e+06</td>\n",
       "      <td>3.522331e+06</td>\n",
       "      <td>2.858318e+07</td>\n",
       "    </tr>\n",
       "    <tr>\n",
       "      <th>min</th>\n",
       "      <td>1.000000</td>\n",
       "      <td>-4.907749e+07</td>\n",
       "      <td>-2.329268e+07</td>\n",
       "      <td>-2.178276e+08</td>\n",
       "    </tr>\n",
       "    <tr>\n",
       "      <th>25%</th>\n",
       "      <td>4.000000</td>\n",
       "      <td>3.688000e+03</td>\n",
       "      <td>5.375475e+03</td>\n",
       "      <td>0.000000e+00</td>\n",
       "    </tr>\n",
       "    <tr>\n",
       "      <th>50%</th>\n",
       "      <td>7.000000</td>\n",
       "      <td>1.070000e+04</td>\n",
       "      <td>5.785035e+03</td>\n",
       "      <td>0.000000e+00</td>\n",
       "    </tr>\n",
       "    <tr>\n",
       "      <th>75%</th>\n",
       "      <td>10.000000</td>\n",
       "      <td>2.094800e+04</td>\n",
       "      <td>6.194595e+03</td>\n",
       "      <td>1.008000e+05</td>\n",
       "    </tr>\n",
       "    <tr>\n",
       "      <th>max</th>\n",
       "      <td>12.000000</td>\n",
       "      <td>4.780905e+07</td>\n",
       "      <td>2.306788e+07</td>\n",
       "      <td>2.171916e+08</td>\n",
       "    </tr>\n",
       "  </tbody>\n",
       "</table>\n",
       "</div>"
      ],
      "text/plain": [
       "            Month         Steam   Electricity           CHW\n",
       "count  365.000000  3.650000e+02  3.650000e+02  3.650000e+02\n",
       "mean     6.526027 -1.212316e+05 -5.814510e+04 -5.406871e+05\n",
       "std      3.452584  6.513091e+06  3.522331e+06  2.858318e+07\n",
       "min      1.000000 -4.907749e+07 -2.329268e+07 -2.178276e+08\n",
       "25%      4.000000  3.688000e+03  5.375475e+03  0.000000e+00\n",
       "50%      7.000000  1.070000e+04  5.785035e+03  0.000000e+00\n",
       "75%     10.000000  2.094800e+04  6.194595e+03  1.008000e+05\n",
       "max     12.000000  4.780905e+07  2.306788e+07  2.171916e+08"
      ]
     },
     "execution_count": 17,
     "metadata": {},
     "output_type": "execute_result"
    }
   ],
   "source": [
    "#Detect\n",
    "WH_EUI_2021.describe()"
   ]
  },
  {
   "cell_type": "code",
   "execution_count": 18,
   "id": "125bfa70",
   "metadata": {},
   "outputs": [
    {
     "data": {
      "text/html": [
       "<div>\n",
       "<style scoped>\n",
       "    .dataframe tbody tr th:only-of-type {\n",
       "        vertical-align: middle;\n",
       "    }\n",
       "\n",
       "    .dataframe tbody tr th {\n",
       "        vertical-align: top;\n",
       "    }\n",
       "\n",
       "    .dataframe thead th {\n",
       "        text-align: right;\n",
       "    }\n",
       "</style>\n",
       "<table border=\"1\" class=\"dataframe\">\n",
       "  <thead>\n",
       "    <tr style=\"text-align: right;\">\n",
       "      <th></th>\n",
       "      <th>Month</th>\n",
       "      <th>Steam</th>\n",
       "      <th>Electricity</th>\n",
       "      <th>CHW</th>\n",
       "      <th>Total Energy Consumption</th>\n",
       "    </tr>\n",
       "  </thead>\n",
       "  <tbody>\n",
       "    <tr>\n",
       "      <th>0</th>\n",
       "      <td>1</td>\n",
       "      <td>25040</td>\n",
       "      <td>5689.471</td>\n",
       "      <td>0</td>\n",
       "      <td>30729.471</td>\n",
       "    </tr>\n",
       "    <tr>\n",
       "      <th>1</th>\n",
       "      <td>1</td>\n",
       "      <td>21712</td>\n",
       "      <td>5737.253</td>\n",
       "      <td>0</td>\n",
       "      <td>27449.253</td>\n",
       "    </tr>\n",
       "    <tr>\n",
       "      <th>2</th>\n",
       "      <td>1</td>\n",
       "      <td>23000</td>\n",
       "      <td>5754.318</td>\n",
       "      <td>0</td>\n",
       "      <td>28754.318</td>\n",
       "    </tr>\n",
       "    <tr>\n",
       "      <th>3</th>\n",
       "      <td>1</td>\n",
       "      <td>31580</td>\n",
       "      <td>6256.029</td>\n",
       "      <td>0</td>\n",
       "      <td>37836.029</td>\n",
       "    </tr>\n",
       "    <tr>\n",
       "      <th>4</th>\n",
       "      <td>1</td>\n",
       "      <td>26412</td>\n",
       "      <td>6293.572</td>\n",
       "      <td>0</td>\n",
       "      <td>32705.572</td>\n",
       "    </tr>\n",
       "    <tr>\n",
       "      <th>...</th>\n",
       "      <td>...</td>\n",
       "      <td>...</td>\n",
       "      <td>...</td>\n",
       "      <td>...</td>\n",
       "      <td>...</td>\n",
       "    </tr>\n",
       "    <tr>\n",
       "      <th>360</th>\n",
       "      <td>12</td>\n",
       "      <td>0</td>\n",
       "      <td>0.000</td>\n",
       "      <td>0</td>\n",
       "      <td>0.000</td>\n",
       "    </tr>\n",
       "    <tr>\n",
       "      <th>361</th>\n",
       "      <td>12</td>\n",
       "      <td>0</td>\n",
       "      <td>0.000</td>\n",
       "      <td>0</td>\n",
       "      <td>0.000</td>\n",
       "    </tr>\n",
       "    <tr>\n",
       "      <th>362</th>\n",
       "      <td>12</td>\n",
       "      <td>0</td>\n",
       "      <td>0.000</td>\n",
       "      <td>0</td>\n",
       "      <td>0.000</td>\n",
       "    </tr>\n",
       "    <tr>\n",
       "      <th>363</th>\n",
       "      <td>12</td>\n",
       "      <td>0</td>\n",
       "      <td>0.000</td>\n",
       "      <td>0</td>\n",
       "      <td>0.000</td>\n",
       "    </tr>\n",
       "    <tr>\n",
       "      <th>364</th>\n",
       "      <td>12</td>\n",
       "      <td>0</td>\n",
       "      <td>0.000</td>\n",
       "      <td>0</td>\n",
       "      <td>0.000</td>\n",
       "    </tr>\n",
       "  </tbody>\n",
       "</table>\n",
       "<p>365 rows × 5 columns</p>\n",
       "</div>"
      ],
      "text/plain": [
       "     Month  Steam  Electricity  CHW  Total Energy Consumption\n",
       "0        1  25040     5689.471    0                 30729.471\n",
       "1        1  21712     5737.253    0                 27449.253\n",
       "2        1  23000     5754.318    0                 28754.318\n",
       "3        1  31580     6256.029    0                 37836.029\n",
       "4        1  26412     6293.572    0                 32705.572\n",
       "..     ...    ...          ...  ...                       ...\n",
       "360     12      0        0.000    0                     0.000\n",
       "361     12      0        0.000    0                     0.000\n",
       "362     12      0        0.000    0                     0.000\n",
       "363     12      0        0.000    0                     0.000\n",
       "364     12      0        0.000    0                     0.000\n",
       "\n",
       "[365 rows x 5 columns]"
      ]
     },
     "execution_count": 18,
     "metadata": {},
     "output_type": "execute_result"
    }
   ],
   "source": [
    "WH_EUI_2021['Total Energy Consumption'] = WH_EUI_2021['Steam'] + WH_EUI_2021['Electricity'] + WH_EUI_2021['CHW']\n",
    "WH_EUI_2021"
   ]
  },
  {
   "cell_type": "code",
   "execution_count": 19,
   "id": "3e3f6e0e",
   "metadata": {},
   "outputs": [],
   "source": [
    "#Remove Outlier\n",
    "def detect_outliers(WH_EUI,columns):\n",
    "    q1=WH_EUI_2021[columns].quantile(0.25)\n",
    "    q3=WH_EUI_2021[columns].quantile(0.75)\n",
    "    iqr=q3-q1\n",
    "    \n",
    "    boundary=1.5*iqr\n",
    "    \n",
    "    index1=WH_EUI_2021[WH_EUI_2021[columns] > q3+boundary].index\n",
    "    index2=WH_EUI_2021[WH_EUI_2021[columns] < q1-boundary].index \n",
    "    \n",
    "    WH_EUI_2021[columns]=WH_EUI_2021[columns].drop(index1)\n",
    "    WH_EUI_2021[columns]=WH_EUI_2021[columns].drop(index2)\n",
    "    \n",
    "    return WH_EUI_2021"
   ]
  },
  {
   "cell_type": "code",
   "execution_count": 20,
   "id": "2fe6375e",
   "metadata": {},
   "outputs": [
    {
     "data": {
      "text/html": [
       "<div>\n",
       "<style scoped>\n",
       "    .dataframe tbody tr th:only-of-type {\n",
       "        vertical-align: middle;\n",
       "    }\n",
       "\n",
       "    .dataframe tbody tr th {\n",
       "        vertical-align: top;\n",
       "    }\n",
       "\n",
       "    .dataframe thead th {\n",
       "        text-align: right;\n",
       "    }\n",
       "</style>\n",
       "<table border=\"1\" class=\"dataframe\">\n",
       "  <thead>\n",
       "    <tr style=\"text-align: right;\">\n",
       "      <th></th>\n",
       "      <th>Month</th>\n",
       "      <th>Steam</th>\n",
       "      <th>Electricity</th>\n",
       "      <th>CHW</th>\n",
       "      <th>Total Energy Consumption</th>\n",
       "    </tr>\n",
       "  </thead>\n",
       "  <tbody>\n",
       "    <tr>\n",
       "      <th>0</th>\n",
       "      <td>1</td>\n",
       "      <td>25040</td>\n",
       "      <td>5689.471</td>\n",
       "      <td>0</td>\n",
       "      <td>30729.471</td>\n",
       "    </tr>\n",
       "    <tr>\n",
       "      <th>1</th>\n",
       "      <td>1</td>\n",
       "      <td>21712</td>\n",
       "      <td>5737.253</td>\n",
       "      <td>0</td>\n",
       "      <td>27449.253</td>\n",
       "    </tr>\n",
       "    <tr>\n",
       "      <th>2</th>\n",
       "      <td>1</td>\n",
       "      <td>23000</td>\n",
       "      <td>5754.318</td>\n",
       "      <td>0</td>\n",
       "      <td>28754.318</td>\n",
       "    </tr>\n",
       "    <tr>\n",
       "      <th>3</th>\n",
       "      <td>1</td>\n",
       "      <td>31580</td>\n",
       "      <td>6256.029</td>\n",
       "      <td>0</td>\n",
       "      <td>37836.029</td>\n",
       "    </tr>\n",
       "    <tr>\n",
       "      <th>4</th>\n",
       "      <td>1</td>\n",
       "      <td>26412</td>\n",
       "      <td>6293.572</td>\n",
       "      <td>0</td>\n",
       "      <td>32705.572</td>\n",
       "    </tr>\n",
       "    <tr>\n",
       "      <th>...</th>\n",
       "      <td>...</td>\n",
       "      <td>...</td>\n",
       "      <td>...</td>\n",
       "      <td>...</td>\n",
       "      <td>...</td>\n",
       "    </tr>\n",
       "    <tr>\n",
       "      <th>360</th>\n",
       "      <td>12</td>\n",
       "      <td>0</td>\n",
       "      <td>0.000</td>\n",
       "      <td>0</td>\n",
       "      <td>0.000</td>\n",
       "    </tr>\n",
       "    <tr>\n",
       "      <th>361</th>\n",
       "      <td>12</td>\n",
       "      <td>0</td>\n",
       "      <td>0.000</td>\n",
       "      <td>0</td>\n",
       "      <td>0.000</td>\n",
       "    </tr>\n",
       "    <tr>\n",
       "      <th>362</th>\n",
       "      <td>12</td>\n",
       "      <td>0</td>\n",
       "      <td>0.000</td>\n",
       "      <td>0</td>\n",
       "      <td>0.000</td>\n",
       "    </tr>\n",
       "    <tr>\n",
       "      <th>363</th>\n",
       "      <td>12</td>\n",
       "      <td>0</td>\n",
       "      <td>0.000</td>\n",
       "      <td>0</td>\n",
       "      <td>0.000</td>\n",
       "    </tr>\n",
       "    <tr>\n",
       "      <th>364</th>\n",
       "      <td>12</td>\n",
       "      <td>0</td>\n",
       "      <td>0.000</td>\n",
       "      <td>0</td>\n",
       "      <td>0.000</td>\n",
       "    </tr>\n",
       "  </tbody>\n",
       "</table>\n",
       "<p>365 rows × 5 columns</p>\n",
       "</div>"
      ],
      "text/plain": [
       "     Month  Steam  Electricity  CHW  Total Energy Consumption\n",
       "0        1  25040     5689.471    0                 30729.471\n",
       "1        1  21712     5737.253    0                 27449.253\n",
       "2        1  23000     5754.318    0                 28754.318\n",
       "3        1  31580     6256.029    0                 37836.029\n",
       "4        1  26412     6293.572    0                 32705.572\n",
       "..     ...    ...          ...  ...                       ...\n",
       "360     12      0        0.000    0                     0.000\n",
       "361     12      0        0.000    0                     0.000\n",
       "362     12      0        0.000    0                     0.000\n",
       "363     12      0        0.000    0                     0.000\n",
       "364     12      0        0.000    0                     0.000\n",
       "\n",
       "[365 rows x 5 columns]"
      ]
     },
     "execution_count": 20,
     "metadata": {},
     "output_type": "execute_result"
    }
   ],
   "source": [
    "detect_outliers(WH_EUI_2021,'Total Energy Consumption')"
   ]
  },
  {
   "cell_type": "code",
   "execution_count": 21,
   "id": "1ea8d281",
   "metadata": {},
   "outputs": [
    {
     "data": {
      "text/plain": [
       "Month\n",
       "1     1056311.378\n",
       "2      979053.016\n",
       "3      606888.946\n",
       "4      708198.864\n",
       "5     1712078.505\n",
       "6     2589597.887\n",
       "7     3470578.283\n",
       "8     3627470.735\n",
       "9     2336876.067\n",
       "10    1173227.616\n",
       "11     735376.332\n",
       "12     541248.647\n",
       "Name: Total Energy Consumption, dtype: float64"
      ]
     },
     "execution_count": 21,
     "metadata": {},
     "output_type": "execute_result"
    }
   ],
   "source": [
    "WH_EUI_2021.groupby(\"Month\")[\"Total Energy Consumption\"].sum()"
   ]
  },
  {
   "cell_type": "code",
   "execution_count": null,
   "id": "3ce918d9",
   "metadata": {},
   "outputs": [],
   "source": []
  },
  {
   "cell_type": "code",
   "execution_count": 22,
   "id": "5bb66436",
   "metadata": {},
   "outputs": [
    {
     "data": {
      "text/html": [
       "<div>\n",
       "<style scoped>\n",
       "    .dataframe tbody tr th:only-of-type {\n",
       "        vertical-align: middle;\n",
       "    }\n",
       "\n",
       "    .dataframe tbody tr th {\n",
       "        vertical-align: top;\n",
       "    }\n",
       "\n",
       "    .dataframe thead th {\n",
       "        text-align: right;\n",
       "    }\n",
       "</style>\n",
       "<table border=\"1\" class=\"dataframe\">\n",
       "  <thead>\n",
       "    <tr style=\"text-align: right;\">\n",
       "      <th></th>\n",
       "      <th>Day</th>\n",
       "      <th>Month</th>\n",
       "      <th>Year</th>\n",
       "      <th>Steam</th>\n",
       "      <th>Electricity</th>\n",
       "      <th>CHW</th>\n",
       "      <th>Total</th>\n",
       "    </tr>\n",
       "  </thead>\n",
       "  <tbody>\n",
       "    <tr>\n",
       "      <th>0</th>\n",
       "      <td>2014-01-01</td>\n",
       "      <td>1</td>\n",
       "      <td>2014</td>\n",
       "      <td>0</td>\n",
       "      <td>0.0</td>\n",
       "      <td>0</td>\n",
       "      <td>0.0</td>\n",
       "    </tr>\n",
       "    <tr>\n",
       "      <th>1</th>\n",
       "      <td>2014-01-02</td>\n",
       "      <td>1</td>\n",
       "      <td>2014</td>\n",
       "      <td>0</td>\n",
       "      <td>0.0</td>\n",
       "      <td>0</td>\n",
       "      <td>0.0</td>\n",
       "    </tr>\n",
       "    <tr>\n",
       "      <th>2</th>\n",
       "      <td>2014-01-03</td>\n",
       "      <td>1</td>\n",
       "      <td>2014</td>\n",
       "      <td>0</td>\n",
       "      <td>0.0</td>\n",
       "      <td>0</td>\n",
       "      <td>0.0</td>\n",
       "    </tr>\n",
       "    <tr>\n",
       "      <th>3</th>\n",
       "      <td>2014-01-04</td>\n",
       "      <td>1</td>\n",
       "      <td>2014</td>\n",
       "      <td>0</td>\n",
       "      <td>0.0</td>\n",
       "      <td>0</td>\n",
       "      <td>0.0</td>\n",
       "    </tr>\n",
       "    <tr>\n",
       "      <th>4</th>\n",
       "      <td>2014-01-05</td>\n",
       "      <td>1</td>\n",
       "      <td>2014</td>\n",
       "      <td>0</td>\n",
       "      <td>0.0</td>\n",
       "      <td>0</td>\n",
       "      <td>0.0</td>\n",
       "    </tr>\n",
       "    <tr>\n",
       "      <th>...</th>\n",
       "      <td>...</td>\n",
       "      <td>...</td>\n",
       "      <td>...</td>\n",
       "      <td>...</td>\n",
       "      <td>...</td>\n",
       "      <td>...</td>\n",
       "      <td>...</td>\n",
       "    </tr>\n",
       "    <tr>\n",
       "      <th>1091</th>\n",
       "      <td>2021-12-27</td>\n",
       "      <td>12</td>\n",
       "      <td>2021</td>\n",
       "      <td>0</td>\n",
       "      <td>0.0</td>\n",
       "      <td>0</td>\n",
       "      <td>0.0</td>\n",
       "    </tr>\n",
       "    <tr>\n",
       "      <th>1092</th>\n",
       "      <td>2021-12-28</td>\n",
       "      <td>12</td>\n",
       "      <td>2021</td>\n",
       "      <td>0</td>\n",
       "      <td>0.0</td>\n",
       "      <td>0</td>\n",
       "      <td>0.0</td>\n",
       "    </tr>\n",
       "    <tr>\n",
       "      <th>1093</th>\n",
       "      <td>2021-12-29</td>\n",
       "      <td>12</td>\n",
       "      <td>2021</td>\n",
       "      <td>0</td>\n",
       "      <td>0.0</td>\n",
       "      <td>0</td>\n",
       "      <td>0.0</td>\n",
       "    </tr>\n",
       "    <tr>\n",
       "      <th>1094</th>\n",
       "      <td>2021-12-30</td>\n",
       "      <td>12</td>\n",
       "      <td>2021</td>\n",
       "      <td>0</td>\n",
       "      <td>0.0</td>\n",
       "      <td>0</td>\n",
       "      <td>0.0</td>\n",
       "    </tr>\n",
       "    <tr>\n",
       "      <th>1095</th>\n",
       "      <td>2021-12-31</td>\n",
       "      <td>12</td>\n",
       "      <td>2021</td>\n",
       "      <td>0</td>\n",
       "      <td>0.0</td>\n",
       "      <td>0</td>\n",
       "      <td>0.0</td>\n",
       "    </tr>\n",
       "  </tbody>\n",
       "</table>\n",
       "<p>1096 rows × 7 columns</p>\n",
       "</div>"
      ],
      "text/plain": [
       "            Day  Month  Year  Steam  Electricity  CHW  Total\n",
       "0    2014-01-01      1  2014      0          0.0    0    0.0\n",
       "1    2014-01-02      1  2014      0          0.0    0    0.0\n",
       "2    2014-01-03      1  2014      0          0.0    0    0.0\n",
       "3    2014-01-04      1  2014      0          0.0    0    0.0\n",
       "4    2014-01-05      1  2014      0          0.0    0    0.0\n",
       "...         ...    ...   ...    ...          ...  ...    ...\n",
       "1091 2021-12-27     12  2021      0          0.0    0    0.0\n",
       "1092 2021-12-28     12  2021      0          0.0    0    0.0\n",
       "1093 2021-12-29     12  2021      0          0.0    0    0.0\n",
       "1094 2021-12-30     12  2021      0          0.0    0    0.0\n",
       "1095 2021-12-31     12  2021      0          0.0    0    0.0\n",
       "\n",
       "[1096 rows x 7 columns]"
      ]
     },
     "execution_count": 22,
     "metadata": {},
     "output_type": "execute_result"
    }
   ],
   "source": [
    "#EUI\n",
    "WH_EUI = pd.read_excel(\"/Volumes/GoogleDrive/My Drive/#IIT/#Lecture/#2022/#Fall/CAE526 Energy Conservation in Buildings/#Project/Project_1_WH.xlsx\", sheet_name = 'Daily')\n",
    "WH_EUI"
   ]
  },
  {
   "cell_type": "code",
   "execution_count": 23,
   "id": "de5644a7",
   "metadata": {},
   "outputs": [
    {
     "data": {
      "text/html": [
       "<div>\n",
       "<style scoped>\n",
       "    .dataframe tbody tr th:only-of-type {\n",
       "        vertical-align: middle;\n",
       "    }\n",
       "\n",
       "    .dataframe tbody tr th {\n",
       "        vertical-align: top;\n",
       "    }\n",
       "\n",
       "    .dataframe thead th {\n",
       "        text-align: right;\n",
       "    }\n",
       "</style>\n",
       "<table border=\"1\" class=\"dataframe\">\n",
       "  <thead>\n",
       "    <tr style=\"text-align: right;\">\n",
       "      <th></th>\n",
       "      <th>Month</th>\n",
       "      <th>Year</th>\n",
       "      <th>Steam</th>\n",
       "      <th>Electricity</th>\n",
       "      <th>CHW</th>\n",
       "      <th>Total</th>\n",
       "    </tr>\n",
       "  </thead>\n",
       "  <tbody>\n",
       "    <tr>\n",
       "      <th>count</th>\n",
       "      <td>1096.000000</td>\n",
       "      <td>1096.000000</td>\n",
       "      <td>1.096000e+03</td>\n",
       "      <td>1.096000e+03</td>\n",
       "      <td>1.096000e+03</td>\n",
       "      <td>1.096000e+03</td>\n",
       "    </tr>\n",
       "    <tr>\n",
       "      <th>mean</th>\n",
       "      <td>6.521898</td>\n",
       "      <td>2018.334854</td>\n",
       "      <td>-3.207023e+04</td>\n",
       "      <td>-1.566214e+04</td>\n",
       "      <td>-1.661212e+05</td>\n",
       "      <td>-2.138536e+05</td>\n",
       "    </tr>\n",
       "    <tr>\n",
       "      <th>std</th>\n",
       "      <td>3.450561</td>\n",
       "      <td>3.091616</td>\n",
       "      <td>6.372802e+06</td>\n",
       "      <td>3.150137e+06</td>\n",
       "      <td>2.788864e+07</td>\n",
       "      <td>3.726476e+07</td>\n",
       "    </tr>\n",
       "    <tr>\n",
       "      <th>min</th>\n",
       "      <td>1.000000</td>\n",
       "      <td>2014.000000</td>\n",
       "      <td>-4.907749e+07</td>\n",
       "      <td>-2.329268e+07</td>\n",
       "      <td>-2.178276e+08</td>\n",
       "      <td>-2.901978e+08</td>\n",
       "    </tr>\n",
       "    <tr>\n",
       "      <th>25%</th>\n",
       "      <td>4.000000</td>\n",
       "      <td>2014.000000</td>\n",
       "      <td>0.000000e+00</td>\n",
       "      <td>4.880590e+03</td>\n",
       "      <td>0.000000e+00</td>\n",
       "      <td>1.089902e+04</td>\n",
       "    </tr>\n",
       "    <tr>\n",
       "      <th>50%</th>\n",
       "      <td>7.000000</td>\n",
       "      <td>2020.000000</td>\n",
       "      <td>6.250000e+03</td>\n",
       "      <td>5.552951e+03</td>\n",
       "      <td>0.000000e+00</td>\n",
       "      <td>2.460684e+04</td>\n",
       "    </tr>\n",
       "    <tr>\n",
       "      <th>75%</th>\n",
       "      <td>10.000000</td>\n",
       "      <td>2021.000000</td>\n",
       "      <td>2.057600e+04</td>\n",
       "      <td>6.056368e+03</td>\n",
       "      <td>1.555000e+04</td>\n",
       "      <td>4.620652e+04</td>\n",
       "    </tr>\n",
       "    <tr>\n",
       "      <th>max</th>\n",
       "      <td>12.000000</td>\n",
       "      <td>2021.000000</td>\n",
       "      <td>4.780905e+07</td>\n",
       "      <td>2.306788e+07</td>\n",
       "      <td>2.171916e+08</td>\n",
       "      <td>2.878696e+08</td>\n",
       "    </tr>\n",
       "  </tbody>\n",
       "</table>\n",
       "</div>"
      ],
      "text/plain": [
       "             Month         Year         Steam   Electricity           CHW  \\\n",
       "count  1096.000000  1096.000000  1.096000e+03  1.096000e+03  1.096000e+03   \n",
       "mean      6.521898  2018.334854 -3.207023e+04 -1.566214e+04 -1.661212e+05   \n",
       "std       3.450561     3.091616  6.372802e+06  3.150137e+06  2.788864e+07   \n",
       "min       1.000000  2014.000000 -4.907749e+07 -2.329268e+07 -2.178276e+08   \n",
       "25%       4.000000  2014.000000  0.000000e+00  4.880590e+03  0.000000e+00   \n",
       "50%       7.000000  2020.000000  6.250000e+03  5.552951e+03  0.000000e+00   \n",
       "75%      10.000000  2021.000000  2.057600e+04  6.056368e+03  1.555000e+04   \n",
       "max      12.000000  2021.000000  4.780905e+07  2.306788e+07  2.171916e+08   \n",
       "\n",
       "              Total  \n",
       "count  1.096000e+03  \n",
       "mean  -2.138536e+05  \n",
       "std    3.726476e+07  \n",
       "min   -2.901978e+08  \n",
       "25%    1.089902e+04  \n",
       "50%    2.460684e+04  \n",
       "75%    4.620652e+04  \n",
       "max    2.878696e+08  "
      ]
     },
     "execution_count": 23,
     "metadata": {},
     "output_type": "execute_result"
    }
   ],
   "source": [
    "#Detect\n",
    "WH_EUI.describe()"
   ]
  },
  {
   "cell_type": "code",
   "execution_count": 24,
   "id": "3f124344",
   "metadata": {},
   "outputs": [
    {
     "data": {
      "text/html": [
       "<div>\n",
       "<style scoped>\n",
       "    .dataframe tbody tr th:only-of-type {\n",
       "        vertical-align: middle;\n",
       "    }\n",
       "\n",
       "    .dataframe tbody tr th {\n",
       "        vertical-align: top;\n",
       "    }\n",
       "\n",
       "    .dataframe thead th {\n",
       "        text-align: right;\n",
       "    }\n",
       "</style>\n",
       "<table border=\"1\" class=\"dataframe\">\n",
       "  <thead>\n",
       "    <tr style=\"text-align: right;\">\n",
       "      <th></th>\n",
       "      <th>Day</th>\n",
       "      <th>Month</th>\n",
       "      <th>Year</th>\n",
       "      <th>Steam</th>\n",
       "      <th>Electricity</th>\n",
       "      <th>CHW</th>\n",
       "      <th>Total</th>\n",
       "      <th>Total Energy Consumption</th>\n",
       "    </tr>\n",
       "  </thead>\n",
       "  <tbody>\n",
       "    <tr>\n",
       "      <th>0</th>\n",
       "      <td>2014-01-01</td>\n",
       "      <td>1</td>\n",
       "      <td>2014</td>\n",
       "      <td>0</td>\n",
       "      <td>0.0</td>\n",
       "      <td>0</td>\n",
       "      <td>0.0</td>\n",
       "      <td>0.0</td>\n",
       "    </tr>\n",
       "    <tr>\n",
       "      <th>1</th>\n",
       "      <td>2014-01-02</td>\n",
       "      <td>1</td>\n",
       "      <td>2014</td>\n",
       "      <td>0</td>\n",
       "      <td>0.0</td>\n",
       "      <td>0</td>\n",
       "      <td>0.0</td>\n",
       "      <td>0.0</td>\n",
       "    </tr>\n",
       "    <tr>\n",
       "      <th>2</th>\n",
       "      <td>2014-01-03</td>\n",
       "      <td>1</td>\n",
       "      <td>2014</td>\n",
       "      <td>0</td>\n",
       "      <td>0.0</td>\n",
       "      <td>0</td>\n",
       "      <td>0.0</td>\n",
       "      <td>0.0</td>\n",
       "    </tr>\n",
       "    <tr>\n",
       "      <th>3</th>\n",
       "      <td>2014-01-04</td>\n",
       "      <td>1</td>\n",
       "      <td>2014</td>\n",
       "      <td>0</td>\n",
       "      <td>0.0</td>\n",
       "      <td>0</td>\n",
       "      <td>0.0</td>\n",
       "      <td>0.0</td>\n",
       "    </tr>\n",
       "    <tr>\n",
       "      <th>4</th>\n",
       "      <td>2014-01-05</td>\n",
       "      <td>1</td>\n",
       "      <td>2014</td>\n",
       "      <td>0</td>\n",
       "      <td>0.0</td>\n",
       "      <td>0</td>\n",
       "      <td>0.0</td>\n",
       "      <td>0.0</td>\n",
       "    </tr>\n",
       "    <tr>\n",
       "      <th>...</th>\n",
       "      <td>...</td>\n",
       "      <td>...</td>\n",
       "      <td>...</td>\n",
       "      <td>...</td>\n",
       "      <td>...</td>\n",
       "      <td>...</td>\n",
       "      <td>...</td>\n",
       "      <td>...</td>\n",
       "    </tr>\n",
       "    <tr>\n",
       "      <th>1091</th>\n",
       "      <td>2021-12-27</td>\n",
       "      <td>12</td>\n",
       "      <td>2021</td>\n",
       "      <td>0</td>\n",
       "      <td>0.0</td>\n",
       "      <td>0</td>\n",
       "      <td>0.0</td>\n",
       "      <td>0.0</td>\n",
       "    </tr>\n",
       "    <tr>\n",
       "      <th>1092</th>\n",
       "      <td>2021-12-28</td>\n",
       "      <td>12</td>\n",
       "      <td>2021</td>\n",
       "      <td>0</td>\n",
       "      <td>0.0</td>\n",
       "      <td>0</td>\n",
       "      <td>0.0</td>\n",
       "      <td>0.0</td>\n",
       "    </tr>\n",
       "    <tr>\n",
       "      <th>1093</th>\n",
       "      <td>2021-12-29</td>\n",
       "      <td>12</td>\n",
       "      <td>2021</td>\n",
       "      <td>0</td>\n",
       "      <td>0.0</td>\n",
       "      <td>0</td>\n",
       "      <td>0.0</td>\n",
       "      <td>0.0</td>\n",
       "    </tr>\n",
       "    <tr>\n",
       "      <th>1094</th>\n",
       "      <td>2021-12-30</td>\n",
       "      <td>12</td>\n",
       "      <td>2021</td>\n",
       "      <td>0</td>\n",
       "      <td>0.0</td>\n",
       "      <td>0</td>\n",
       "      <td>0.0</td>\n",
       "      <td>0.0</td>\n",
       "    </tr>\n",
       "    <tr>\n",
       "      <th>1095</th>\n",
       "      <td>2021-12-31</td>\n",
       "      <td>12</td>\n",
       "      <td>2021</td>\n",
       "      <td>0</td>\n",
       "      <td>0.0</td>\n",
       "      <td>0</td>\n",
       "      <td>0.0</td>\n",
       "      <td>0.0</td>\n",
       "    </tr>\n",
       "  </tbody>\n",
       "</table>\n",
       "<p>1096 rows × 8 columns</p>\n",
       "</div>"
      ],
      "text/plain": [
       "            Day  Month  Year  Steam  Electricity  CHW  Total  \\\n",
       "0    2014-01-01      1  2014      0          0.0    0    0.0   \n",
       "1    2014-01-02      1  2014      0          0.0    0    0.0   \n",
       "2    2014-01-03      1  2014      0          0.0    0    0.0   \n",
       "3    2014-01-04      1  2014      0          0.0    0    0.0   \n",
       "4    2014-01-05      1  2014      0          0.0    0    0.0   \n",
       "...         ...    ...   ...    ...          ...  ...    ...   \n",
       "1091 2021-12-27     12  2021      0          0.0    0    0.0   \n",
       "1092 2021-12-28     12  2021      0          0.0    0    0.0   \n",
       "1093 2021-12-29     12  2021      0          0.0    0    0.0   \n",
       "1094 2021-12-30     12  2021      0          0.0    0    0.0   \n",
       "1095 2021-12-31     12  2021      0          0.0    0    0.0   \n",
       "\n",
       "      Total Energy Consumption  \n",
       "0                          0.0  \n",
       "1                          0.0  \n",
       "2                          0.0  \n",
       "3                          0.0  \n",
       "4                          0.0  \n",
       "...                        ...  \n",
       "1091                       0.0  \n",
       "1092                       0.0  \n",
       "1093                       0.0  \n",
       "1094                       0.0  \n",
       "1095                       0.0  \n",
       "\n",
       "[1096 rows x 8 columns]"
      ]
     },
     "execution_count": 24,
     "metadata": {},
     "output_type": "execute_result"
    }
   ],
   "source": [
    "WH_EUI['Total Energy Consumption'] = WH_EUI['Steam'] + WH_EUI['Electricity'] + WH_EUI['CHW']\n",
    "WH_EUI"
   ]
  },
  {
   "cell_type": "code",
   "execution_count": 25,
   "id": "1aaeda36",
   "metadata": {},
   "outputs": [
    {
     "data": {
      "text/plain": [
       "Year\n",
       "2014     141.609465\n",
       "2020     315.562245\n",
       "2021   -4224.911544\n",
       "Name: Total Energy Consumption, dtype: float64"
      ]
     },
     "execution_count": 25,
     "metadata": {},
     "output_type": "execute_result"
    }
   ],
   "source": [
    "WH_EUI_Y = WH_EUI.groupby(\"Year\")[\"Total Energy Consumption\"].sum() / 62208 #Gross Area = 62,208 sf\n",
    "WH_EUI_Y"
   ]
  },
  {
   "cell_type": "code",
   "execution_count": 26,
   "id": "5aa430b0",
   "metadata": {},
   "outputs": [
    {
     "data": {
      "text/plain": [
       "count       3.000000\n",
       "mean    -1255.913278\n",
       "std      2572.698568\n",
       "min     -4224.911544\n",
       "25%     -2041.651039\n",
       "50%       141.609465\n",
       "75%       228.585855\n",
       "max       315.562245\n",
       "Name: Total Energy Consumption, dtype: float64"
      ]
     },
     "execution_count": 26,
     "metadata": {},
     "output_type": "execute_result"
    }
   ],
   "source": [
    "WH_EUI_Y.describe()"
   ]
  },
  {
   "cell_type": "code",
   "execution_count": 27,
   "id": "4af3a78b",
   "metadata": {},
   "outputs": [
    {
     "data": {
      "text/html": [
       "<div>\n",
       "<style scoped>\n",
       "    .dataframe tbody tr th:only-of-type {\n",
       "        vertical-align: middle;\n",
       "    }\n",
       "\n",
       "    .dataframe tbody tr th {\n",
       "        vertical-align: top;\n",
       "    }\n",
       "\n",
       "    .dataframe thead th {\n",
       "        text-align: right;\n",
       "    }\n",
       "</style>\n",
       "<table border=\"1\" class=\"dataframe\">\n",
       "  <thead>\n",
       "    <tr style=\"text-align: right;\">\n",
       "      <th></th>\n",
       "      <th>WH (2014)</th>\n",
       "      <th>WH (2020)</th>\n",
       "      <th>WH (2021)</th>\n",
       "    </tr>\n",
       "  </thead>\n",
       "  <tbody>\n",
       "    <tr>\n",
       "      <th>0</th>\n",
       "      <td>141.6</td>\n",
       "      <td>315.6</td>\n",
       "      <td>-4224.9</td>\n",
       "    </tr>\n",
       "  </tbody>\n",
       "</table>\n",
       "</div>"
      ],
      "text/plain": [
       "   WH (2014)  WH (2020)  WH (2021)\n",
       "0      141.6      315.6    -4224.9"
      ]
     },
     "execution_count": 27,
     "metadata": {},
     "output_type": "execute_result"
    }
   ],
   "source": [
    "WH_EUI_Year = pd.DataFrame({\n",
    "    'WH (2014)': [141.6],\n",
    "    'WH (2020)': [315.6],\n",
    "    'WH (2021)': [-4224.9]\n",
    "    })\n",
    "WH_EUI_Year"
   ]
  },
  {
   "cell_type": "code",
   "execution_count": 28,
   "id": "d0dc15c9",
   "metadata": {},
   "outputs": [
    {
     "data": {
      "text/html": [
       "<div>\n",
       "<style scoped>\n",
       "    .dataframe tbody tr th:only-of-type {\n",
       "        vertical-align: middle;\n",
       "    }\n",
       "\n",
       "    .dataframe tbody tr th {\n",
       "        vertical-align: top;\n",
       "    }\n",
       "\n",
       "    .dataframe thead th {\n",
       "        text-align: right;\n",
       "    }\n",
       "</style>\n",
       "<table border=\"1\" class=\"dataframe\">\n",
       "  <thead>\n",
       "    <tr style=\"text-align: right;\">\n",
       "      <th></th>\n",
       "      <th>CBECS</th>\n",
       "      <th>Benchimarking (CHI)</th>\n",
       "      <th>Benchimarking (NY)</th>\n",
       "    </tr>\n",
       "  </thead>\n",
       "  <tbody>\n",
       "    <tr>\n",
       "      <th>0</th>\n",
       "      <td>84.3</td>\n",
       "      <td>157</td>\n",
       "      <td>23.4</td>\n",
       "    </tr>\n",
       "  </tbody>\n",
       "</table>\n",
       "</div>"
      ],
      "text/plain": [
       "   CBECS  Benchimarking (CHI)  Benchimarking (NY)\n",
       "0   84.3                  157                23.4"
      ]
     },
     "execution_count": 28,
     "metadata": {},
     "output_type": "execute_result"
    }
   ],
   "source": [
    "#Mergy with other data\n",
    "OTH_EUI = pd.DataFrame({\n",
    "    'CBECS': [84.3],\n",
    "    'Benchimarking (CHI)': [157],\n",
    "    'Benchimarking (NY)': [23.4], #NY, GA 62,157sf})\n",
    "    })\n",
    "OTH_EUI"
   ]
  },
  {
   "cell_type": "code",
   "execution_count": 29,
   "id": "47216c9a",
   "metadata": {},
   "outputs": [
    {
     "data": {
      "text/html": [
       "<div>\n",
       "<style scoped>\n",
       "    .dataframe tbody tr th:only-of-type {\n",
       "        vertical-align: middle;\n",
       "    }\n",
       "\n",
       "    .dataframe tbody tr th {\n",
       "        vertical-align: top;\n",
       "    }\n",
       "\n",
       "    .dataframe thead th {\n",
       "        text-align: right;\n",
       "    }\n",
       "</style>\n",
       "<table border=\"1\" class=\"dataframe\">\n",
       "  <thead>\n",
       "    <tr style=\"text-align: right;\">\n",
       "      <th></th>\n",
       "      <th>WH (2014)</th>\n",
       "      <th>WH (2020)</th>\n",
       "      <th>WH (2021)</th>\n",
       "      <th>CBECS</th>\n",
       "      <th>Benchimarking (CHI)</th>\n",
       "      <th>Benchimarking (NY)</th>\n",
       "    </tr>\n",
       "  </thead>\n",
       "  <tbody>\n",
       "    <tr>\n",
       "      <th>0</th>\n",
       "      <td>141.6</td>\n",
       "      <td>315.6</td>\n",
       "      <td>-4224.9</td>\n",
       "      <td>84.3</td>\n",
       "      <td>157</td>\n",
       "      <td>23.4</td>\n",
       "    </tr>\n",
       "  </tbody>\n",
       "</table>\n",
       "</div>"
      ],
      "text/plain": [
       "   WH (2014)  WH (2020)  WH (2021)  CBECS  Benchimarking (CHI)  \\\n",
       "0      141.6      315.6    -4224.9   84.3                  157   \n",
       "\n",
       "   Benchimarking (NY)  \n",
       "0                23.4  "
      ]
     },
     "execution_count": 29,
     "metadata": {},
     "output_type": "execute_result"
    }
   ],
   "source": [
    "ALL_EUI = pd.concat([WH_EUI_Year, OTH_EUI],axis = 1)\n",
    "ALL_EUI"
   ]
  },
  {
   "cell_type": "code",
   "execution_count": 30,
   "id": "d6c806a1",
   "metadata": {
    "scrolled": false
   },
   "outputs": [
    {
     "data": {
      "image/png": "[encoded data removed]",
      "text/plain": [
       "<Figure size 1008x576 with 1 Axes>"
      ]
     },
     "metadata": {
      "needs_background": "light"
     },
     "output_type": "display_data"
    }
   ],
   "source": [
    "EUI = ['WH (2014)','WH (2020)','WH (2021)','CBECS','Benchimarking (CHI)','Benchimarking (NY)']\n",
    "Value = [141.6, 315.6, -4224.9, 84.3, 157, 23.4]\n",
    "\n",
    "plt.figure(figsize = (14, 8))\n",
    "plt.ylim(-4500, 400)\n",
    "\n",
    "bar = plt.bar(EUI, Value, color = ['blue', 'orange', 'green', 'red', 'purple', 'brown'], alpha = 0.8)\n",
    "\n",
    "for rect in bar:\n",
    "    height = rect.get_height()\n",
    "    plt.text(rect.get_x() + rect.get_width()/2.0, height, '%.1f' % height, ha='center', va='bottom', size = 14)\n",
    "\n",
    "plt.title('Comparing EUI', fontsize=18)\n",
    "\n",
    "plt.xticks(rotation=45)\n",
    "plt.ylabel('EUI (kBTU/sf)')\n",
    "\n",
    "plt.show()"
   ]
  },
  {
   "cell_type": "code",
   "execution_count": 31,
   "id": "698d046a",
   "metadata": {},
   "outputs": [
    {
     "data": {
      "text/html": [
       "<div>\n",
       "<style scoped>\n",
       "    .dataframe tbody tr th:only-of-type {\n",
       "        vertical-align: middle;\n",
       "    }\n",
       "\n",
       "    .dataframe tbody tr th {\n",
       "        vertical-align: top;\n",
       "    }\n",
       "\n",
       "    .dataframe thead th {\n",
       "        text-align: right;\n",
       "    }\n",
       "</style>\n",
       "<table border=\"1\" class=\"dataframe\">\n",
       "  <thead>\n",
       "    <tr style=\"text-align: right;\">\n",
       "      <th></th>\n",
       "      <th>WH (Ideal)</th>\n",
       "      <th>WH (HVAC)</th>\n",
       "    </tr>\n",
       "  </thead>\n",
       "  <tbody>\n",
       "    <tr>\n",
       "      <th>0</th>\n",
       "      <td>49.41</td>\n",
       "      <td>104.61</td>\n",
       "    </tr>\n",
       "  </tbody>\n",
       "</table>\n",
       "</div>"
      ],
      "text/plain": [
       "   WH (Ideal)  WH (HVAC)\n",
       "0       49.41     104.61"
      ]
     },
     "execution_count": 31,
     "metadata": {},
     "output_type": "execute_result"
    }
   ],
   "source": [
    "WH_EUI_OSM = pd.DataFrame({\n",
    "    'WH (Ideal)': [49.41],\n",
    "    'WH (HVAC)': [104.61],\n",
    "    })\n",
    "WH_EUI_OSM"
   ]
  },
  {
   "cell_type": "code",
   "execution_count": 32,
   "id": "179c830c",
   "metadata": {},
   "outputs": [
    {
     "data": {
      "text/html": [
       "<div>\n",
       "<style scoped>\n",
       "    .dataframe tbody tr th:only-of-type {\n",
       "        vertical-align: middle;\n",
       "    }\n",
       "\n",
       "    .dataframe tbody tr th {\n",
       "        vertical-align: top;\n",
       "    }\n",
       "\n",
       "    .dataframe thead th {\n",
       "        text-align: right;\n",
       "    }\n",
       "</style>\n",
       "<table border=\"1\" class=\"dataframe\">\n",
       "  <thead>\n",
       "    <tr style=\"text-align: right;\">\n",
       "      <th></th>\n",
       "      <th>WH (2014)</th>\n",
       "      <th>WH (2020)</th>\n",
       "      <th>WH (2021)</th>\n",
       "      <th>CBECS</th>\n",
       "      <th>Benchimarking (CHI)</th>\n",
       "      <th>Benchimarking (NY)</th>\n",
       "      <th>WH (Ideal)</th>\n",
       "      <th>WH (HVAC)</th>\n",
       "    </tr>\n",
       "  </thead>\n",
       "  <tbody>\n",
       "    <tr>\n",
       "      <th>0</th>\n",
       "      <td>141.6</td>\n",
       "      <td>315.6</td>\n",
       "      <td>-4224.9</td>\n",
       "      <td>84.3</td>\n",
       "      <td>157</td>\n",
       "      <td>23.4</td>\n",
       "      <td>49.41</td>\n",
       "      <td>104.61</td>\n",
       "    </tr>\n",
       "  </tbody>\n",
       "</table>\n",
       "</div>"
      ],
      "text/plain": [
       "   WH (2014)  WH (2020)  WH (2021)  CBECS  Benchimarking (CHI)  \\\n",
       "0      141.6      315.6    -4224.9   84.3                  157   \n",
       "\n",
       "   Benchimarking (NY)  WH (Ideal)  WH (HVAC)  \n",
       "0                23.4       49.41     104.61  "
      ]
     },
     "execution_count": 32,
     "metadata": {},
     "output_type": "execute_result"
    }
   ],
   "source": [
    "WH_EUI_OSM = pd.DataFrame({\n",
    "    'WH (2014)': [141.6],\n",
    "    'WH (2020)': [315.6],\n",
    "    'WH (2021)': [-4224.9],\n",
    "    'CBECS': [84.3],\n",
    "    'Benchimarking (CHI)': [157],\n",
    "    'Benchimarking (NY)': [23.4],\n",
    "    'WH (Ideal)': [49.41],\n",
    "    'WH (HVAC)': [104.61] \n",
    "    })\n",
    "WH_EUI_OSM"
   ]
  },
  {
   "cell_type": "code",
   "execution_count": 33,
   "id": "67c0724c",
   "metadata": {},
   "outputs": [
    {
     "data": {
      "image/png": "[encoded data removed]",
      "text/plain": [
       "<Figure size 1008x576 with 1 Axes>"
      ]
     },
     "metadata": {
      "needs_background": "light"
     },
     "output_type": "display_data"
    }
   ],
   "source": [
    "EUI = ['WH (2014)','WH (2020)','WH (2021)','CBECS','Benchimarking (CHI)','Benchimarking (NY)', 'WH (Ideal)', 'WH (HVAC)' ]\n",
    "Value = [141.6, 315.6, -4224.9, 84.3, 157, 23.4, 49.41, 104.61]\n",
    "\n",
    "plt.figure(figsize = (14,8))\n",
    "plt.ylim(-4500, 400)\n",
    "\n",
    "bar = plt.bar(EUI, Value, color = ['blue', 'orange', 'green', 'red', 'purple', 'brown'], alpha = 0.8)\n",
    "\n",
    "for rect in bar:\n",
    "    height = rect.get_height()\n",
    "    plt.text(rect.get_x() + rect.get_width()/2.0, height, '%.1f' % height, ha='center', va='bottom', size = 14)\n",
    "\n",
    "plt.title('Comparing EUI', fontsize=18)\n",
    "plt.xlabel('xlabel', fontsize=5)\n",
    "\n",
    "plt.xticks(rotation=45)\n",
    "plt.ylabel('EUI (kBTU/sf)')\n",
    "\n",
    "plt.show()"
   ]
  },
  {
   "cell_type": "code",
   "execution_count": 34,
   "id": "4dfd1734",
   "metadata": {},
   "outputs": [
    {
     "data": {
      "text/html": [
       "<div>\n",
       "<style scoped>\n",
       "    .dataframe tbody tr th:only-of-type {\n",
       "        vertical-align: middle;\n",
       "    }\n",
       "\n",
       "    .dataframe tbody tr th {\n",
       "        vertical-align: top;\n",
       "    }\n",
       "\n",
       "    .dataframe thead th {\n",
       "        text-align: right;\n",
       "    }\n",
       "</style>\n",
       "<table border=\"1\" class=\"dataframe\">\n",
       "  <thead>\n",
       "    <tr style=\"text-align: right;\">\n",
       "      <th></th>\n",
       "      <th>End Use (kBTU)</th>\n",
       "      <th>Heating</th>\n",
       "      <th>Cooling</th>\n",
       "      <th>Interior Lighting</th>\n",
       "      <th>Exterior Lighting</th>\n",
       "      <th>Interior Equipment</th>\n",
       "      <th>Exterior Equipment</th>\n",
       "      <th>Fans</th>\n",
       "      <th>Pumps</th>\n",
       "      <th>Heat Rejection</th>\n",
       "      <th>Humidification</th>\n",
       "      <th>Heat Recovery</th>\n",
       "      <th>Water Systems</th>\n",
       "      <th>Refrigeration</th>\n",
       "      <th>Generators</th>\n",
       "    </tr>\n",
       "  </thead>\n",
       "  <tbody>\n",
       "    <tr>\n",
       "      <th>0</th>\n",
       "      <td>Ideal</td>\n",
       "      <td>925809</td>\n",
       "      <td>209638</td>\n",
       "      <td>1104965</td>\n",
       "      <td>0</td>\n",
       "      <td>832970</td>\n",
       "      <td>0</td>\n",
       "      <td>0</td>\n",
       "      <td>0</td>\n",
       "      <td>0</td>\n",
       "      <td>0</td>\n",
       "      <td>0</td>\n",
       "      <td>0</td>\n",
       "      <td>0</td>\n",
       "      <td>0</td>\n",
       "    </tr>\n",
       "    <tr>\n",
       "      <th>1</th>\n",
       "      <td>HVAC</td>\n",
       "      <td>3296849</td>\n",
       "      <td>620792</td>\n",
       "      <td>1104965</td>\n",
       "      <td>0</td>\n",
       "      <td>832970</td>\n",
       "      <td>0</td>\n",
       "      <td>51713</td>\n",
       "      <td>416585</td>\n",
       "      <td>183744</td>\n",
       "      <td>0</td>\n",
       "      <td>0</td>\n",
       "      <td>0</td>\n",
       "      <td>0</td>\n",
       "      <td>0</td>\n",
       "    </tr>\n",
       "  </tbody>\n",
       "</table>\n",
       "</div>"
      ],
      "text/plain": [
       "  End Use (kBTU)  Heating  Cooling  Interior Lighting  Exterior Lighting  \\\n",
       "0          Ideal   925809   209638            1104965                  0   \n",
       "1           HVAC  3296849   620792            1104965                  0   \n",
       "\n",
       "   Interior Equipment  Exterior Equipment   Fans   Pumps  Heat Rejection  \\\n",
       "0              832970                   0      0       0               0   \n",
       "1              832970                   0  51713  416585          183744   \n",
       "\n",
       "   Humidification  Heat Recovery  Water Systems  Refrigeration   Generators  \n",
       "0               0              0              0              0            0  \n",
       "1               0              0              0              0            0  "
      ]
     },
     "execution_count": 34,
     "metadata": {},
     "output_type": "execute_result"
    }
   ],
   "source": [
    "#End Use\n",
    "End_Use = pd.read_excel(\"/Volumes/GoogleDrive/My Drive/#IIT/#Lecture/#2022/#Fall/CAE526 Energy Conservation in Buildings/#Project/Project_1_WH.xlsx\", sheet_name = 'End Use')\n",
    "End_Use"
   ]
  },
  {
   "cell_type": "code",
   "execution_count": 35,
   "id": "35254c2c",
   "metadata": {},
   "outputs": [
    {
     "data": {
      "text/plain": [
       "<Figure size 7200x2160 with 0 Axes>"
      ]
     },
     "metadata": {},
     "output_type": "display_data"
    },
    {
     "data": {
      "image/png": "[encoded data removed]",
      "text/plain": [
       "<Figure size 432x288 with 1 Axes>"
      ]
     },
     "metadata": {
      "needs_background": "light"
     },
     "output_type": "display_data"
    }
   ],
   "source": [
    "x_label = ['Heating', 'Cooling', 'Interior Lighting', 'Exterior Lighting', 'Interior Equipment', 'Exterior Equipment', 'Fans', 'Pumps', 'Heat Rejection', 'Humidification', 'Heat Recovery', 'Water Systems', 'Refrigeration', 'Generators']\n",
    "x = np.arange(len(x_label))\n",
    "y_1 = [925809, 209638, 1104965, 0, 832970, 0, 0, 0, 0, 0, 0, 0, 0, 0]\n",
    "y_2 = [3296849, 620792,1104965, 0, 832970, 0, 51713, 416585, 183744, 0, 0, 0, 0, 0]\n",
    "\n",
    "plt.figure(figsize = (100,30))\n",
    "width = 0.35\n",
    "           \n",
    "fig, axes = plt.subplots()\n",
    "           \n",
    "axes.bar(x - width/2, y_1, width, alpha = 0.5)\n",
    "axes.bar(x + width/2, y_2, width, alpha = 0.8)\n",
    "\n",
    "plt.xticks(x)\n",
    "plt.xticks(rotation=90)\n",
    "axes.set_xticklabels(x_label)\n",
    "plt.tight_layout() #fig.tight_layout() or #plt.xlim(0, 14) either works #x axis font size: axes.tick_params(labelsize = 10)\n",
    "\n",
    "plt.ylabel('Energy (kBTU)')         \n",
    "           \n",
    "plt.title('End Use Energy (kBTU)')\n",
    "\n",
    "plt.legend(['Ideal', 'HVAC'])\n",
    "\n",
    "plt.show()"
   ]
  },
  {
   "cell_type": "code",
   "execution_count": 36,
   "id": "bb4b708b",
   "metadata": {},
   "outputs": [],
   "source": [
    "#CVRMSE define\n",
    "def cvrmse(targets, predictions):\n",
    "    arr=np.array(targets - predictions) \n",
    "    return ((np.sqrt(abs((arr)**2).mean())/11/targets.mean())*100)"
   ]
  },
  {
   "cell_type": "code",
   "execution_count": 37,
   "id": "3f923b4a",
   "metadata": {},
   "outputs": [],
   "source": [
    "#CVRMSE_Total\n",
    "#Data assign\n",
    "Actual_2014_T = np.array([[1798984, 1305385, 1037589, 440151, 391747, 423296, 504991, 618791, 391384, 274410, 847183, 775330]])\n",
    "Actual_2020_T = np.array([[1191659, 1175426, 744685, 203491, 473652, 1868584, -248850298, 259124933, 1763009, 640211, 430245, 864899]])\n",
    "Actual_2021_T = np.array([[1056311, 1057831, 662776, 708199, 1712079, 6592876, 5537585, 4999623, 2336876, 1402391, 766670, -289656514]])\n",
    "Predict_Ideal_T = np.array([[407709, 326338, 285499, 201187, 201689, 210522, 216985, 224779, 201147, 214579, 241122, 342305]])\n",
    "Predict_HVAC_T = np.array([[977874, 751993, 611467, 416623, 395056, 393405, 409268, 432145, 398914, 429850, 496277, 795555]])"
   ]
  },
  {
   "cell_type": "code",
   "execution_count": 38,
   "id": "bc98cbc3",
   "metadata": {},
   "outputs": [
    {
     "name": "stdout",
     "output_type": "stream",
     "text": [
      "4.161706428164686\n"
     ]
    }
   ],
   "source": [
    "#CVRMSE_Total (2014 vs HVAC)\n",
    "cvrmse_Total = cvrmse(np.array(Actual_2014_T), np.array(Predict_HVAC_T))\n",
    "print(cvrmse_Total)"
   ]
  },
  {
   "cell_type": "code",
   "execution_count": 39,
   "id": "7dc7908e",
   "metadata": {},
   "outputs": [
    {
     "name": "stdout",
     "output_type": "stream",
     "text": [
      "7.525151476014081\n"
     ]
    }
   ],
   "source": [
    "#CVRMSE_Elec (2014 vs Ideal)\n",
    "cvrmse_Total = cvrmse(np.array(Actual_2014_T), np.array(Predict_Ideal_T))\n",
    "print(cvrmse_Total)"
   ]
  },
  {
   "cell_type": "code",
   "execution_count": 40,
   "id": "9aa0fd9e",
   "metadata": {},
   "outputs": [
    {
     "name": "stdout",
     "output_type": "stream",
     "text": [
      "576.3109879542798\n"
     ]
    }
   ],
   "source": [
    "#CVRMSE_Total (2020 vs HVAC)\n",
    "cvrmse_Total = cvrmse(np.array(Actual_2020_T), np.array(Predict_HVAC_T))\n",
    "print(cvrmse_Total)"
   ]
  },
  {
   "cell_type": "code",
   "execution_count": 41,
   "id": "89956830",
   "metadata": {},
   "outputs": [
    {
     "name": "stdout",
     "output_type": "stream",
     "text": [
      "576.3431964715489\n"
     ]
    }
   ],
   "source": [
    "#CVRMSE_Total (2020 vs Ideal)\n",
    "cvrmse_Total = cvrmse(np.array(Actual_2020_T), np.array(Predict_Ideal_T))\n",
    "print(cvrmse_Total)"
   ]
  },
  {
   "cell_type": "code",
   "execution_count": 42,
   "id": "0ef1430e",
   "metadata": {},
   "outputs": [
    {
     "name": "stdout",
     "output_type": "stream",
     "text": [
      "-34.821380110891575\n"
     ]
    }
   ],
   "source": [
    "#CVRMSE_Total (2021 vs HVAC)\n",
    "cvrmse_Total = cvrmse(np.array(Actual_2021_T), np.array(Predict_HVAC_T))\n",
    "print(cvrmse_Total)"
   ]
  },
  {
   "cell_type": "code",
   "execution_count": 43,
   "id": "b400ba50",
   "metadata": {},
   "outputs": [
    {
     "name": "stdout",
     "output_type": "stream",
     "text": [
      "-34.76904903647948\n"
     ]
    }
   ],
   "source": [
    "#CVRMSE_Total (2021 vs Ideal)\n",
    "cvrmse_Total = cvrmse(np.array(Actual_2021_T), np.array(Predict_Ideal_T))\n",
    "print(cvrmse_Total)"
   ]
  },
  {
   "cell_type": "code",
   "execution_count": 44,
   "id": "f9005444",
   "metadata": {},
   "outputs": [],
   "source": [
    "#NMBE\n",
    "def nmbe(targets, predictions):\n",
    "    arr=np.array(targets - predictions)\n",
    "    return ((np.sum(abs((arr)).mean())/ (11*targets.mean()))*100)"
   ]
  },
  {
   "cell_type": "code",
   "execution_count": 45,
   "id": "77d10119",
   "metadata": {},
   "outputs": [
    {
     "name": "stdout",
     "output_type": "stream",
     "text": [
      "2.7593152153826566\n"
     ]
    }
   ],
   "source": [
    "#NMBE_Total (2014 vs HVAC)\n",
    "nmbe_Total = nmbe(np.array(Actual_2014_T), np.array(Predict_HVAC_T))\n",
    "print(nmbe_Total)"
   ]
  },
  {
   "cell_type": "code",
   "execution_count": 46,
   "id": "0c1a84f9",
   "metadata": {},
   "outputs": [
    {
     "name": "stdout",
     "output_type": "stream",
     "text": [
      "5.918763964093863\n"
     ]
    }
   ],
   "source": [
    "#NMBE_Total (2014 vs Ideal)\n",
    "nmbe_Total = nmbe(np.array(Actual_2014_T), np.array(Predict_Ideal_T))\n",
    "print(nmbe_Total)"
   ]
  },
  {
   "cell_type": "code",
   "execution_count": 47,
   "id": "68c8742b",
   "metadata": {},
   "outputs": [
    {
     "name": "stdout",
     "output_type": "stream",
     "text": [
      "237.2002905349643\n"
     ]
    }
   ],
   "source": [
    "#NMBE_Total (2020 vs HVAC)\n",
    "nmbe_Total = nmbe(np.array(Actual_2020_T), np.array(Predict_HVAC_T))\n",
    "print(nmbe_Total)"
   ]
  },
  {
   "cell_type": "code",
   "execution_count": 48,
   "id": "943c0f6c",
   "metadata": {},
   "outputs": [
    {
     "name": "stdout",
     "output_type": "stream",
     "text": [
      "238.35418718823087\n"
     ]
    }
   ],
   "source": [
    "#NMBE_Total (2020 vs Ideal)\n",
    "nmbe_Total = nmbe(np.array(Actual_2020_T), np.array(Predict_Ideal_T))\n",
    "print(nmbe_Total)"
   ]
  },
  {
   "cell_type": "code",
   "execution_count": 49,
   "id": "2c58cd9c",
   "metadata": {},
   "outputs": [
    {
     "name": "stdout",
     "output_type": "stream",
     "text": [
      "-10.777113456989662\n"
     ]
    }
   ],
   "source": [
    "#NMBE_Total (2021 vs HVAC)\n",
    "nmbe_Total = nmbe(np.array(Actual_2021_T), np.array(Predict_HVAC_T))\n",
    "print(nmbe_Total)"
   ]
  },
  {
   "cell_type": "code",
   "execution_count": 50,
   "id": "00b68a71",
   "metadata": {},
   "outputs": [
    {
     "name": "stdout",
     "output_type": "stream",
     "text": [
      "-10.8645578290988\n"
     ]
    }
   ],
   "source": [
    "#NMBE_Total (2021 vs Ideal)\n",
    "nmbe_Total = nmbe(np.array(Actual_2021_T), np.array(Predict_Ideal_T))\n",
    "print(nmbe_Total)"
   ]
  },
  {
   "cell_type": "code",
   "execution_count": null,
   "id": "c2a410b7",
   "metadata": {},
   "outputs": [],
   "source": []
  },
  {
   "cell_type": "code",
   "execution_count": 51,
   "id": "241ca8d2",
   "metadata": {},
   "outputs": [],
   "source": [
    "#Removed Outlier_CVRMSE_Total\n",
    "#Data assign\n",
    "RO_Actual_2014_T = np.array([[743273, 1305385, 1037589, 440151, 391747, 423296, 504991, 420479, 391384, 274410, 847183, 775330]])\n",
    "RO_Actual_2020_T = np.array([[1798984, 1350709, 1009770, 433552, 398813, 424608, 502394, 626325, 376662, 288325, 870438, 728662]])\n",
    "RO_Actual_2021_T = np.array([[1798984, 1305385, 1037589, 440151, 391747, 423296, 504991, 618791, 391384, 274410, 847183, 775330]])\n",
    "RO_Predict_Ideal_T = np.array([[407709, 326338, 285499, 201187, 201689, 210522, 216985, 224779, 201147, 214579, 241122, 342305]])\n",
    "RO_Predict_HVAC_T = np.array([[977874, 751993, 611467, 416623, 395056, 393405, 409268, 432145, 398914, 429850, 496277, 795555]])"
   ]
  },
  {
   "cell_type": "code",
   "execution_count": 52,
   "id": "cc1ade57",
   "metadata": {},
   "outputs": [
    {
     "name": "stdout",
     "output_type": "stream",
     "text": [
      "3.490820470028313\n"
     ]
    }
   ],
   "source": [
    "#CVRMSE_Total (2014 vs HVAC)\n",
    "cvrmse_Total = cvrmse(np.array(RO_Actual_2014_T), np.array(RO_Predict_HVAC_T))\n",
    "print(cvrmse_Total)"
   ]
  },
  {
   "cell_type": "code",
   "execution_count": 53,
   "id": "1ee74a00",
   "metadata": {},
   "outputs": [
    {
     "name": "stdout",
     "output_type": "stream",
     "text": [
      "6.578811500063633\n"
     ]
    }
   ],
   "source": [
    "#CVRMSE_Total (2014 vs Ideal)\n",
    "cvrmse_Total = cvrmse(np.array(RO_Actual_2014_T), np.array(RO_Predict_Ideal_T))\n",
    "print(cvrmse_Total)"
   ]
  },
  {
   "cell_type": "code",
   "execution_count": 54,
   "id": "ceb1415d",
   "metadata": {},
   "outputs": [
    {
     "name": "stdout",
     "output_type": "stream",
     "text": [
      "4.235837029275455\n"
     ]
    }
   ],
   "source": [
    "#CVRMSE_Total (2020 vs HVAC)\n",
    "cvrmse_Total = cvrmse(np.array(RO_Actual_2020_T), np.array(RO_Predict_HVAC_T))\n",
    "print(cvrmse_Total)"
   ]
  },
  {
   "cell_type": "code",
   "execution_count": 55,
   "id": "f37ad9ed",
   "metadata": {},
   "outputs": [
    {
     "name": "stdout",
     "output_type": "stream",
     "text": [
      "7.560211053348899\n"
     ]
    }
   ],
   "source": [
    "#CVRMSE_Total (2020 vs Ideal)\n",
    "cvrmse_Total = cvrmse(np.array(RO_Actual_2020_T), np.array(RO_Predict_Ideal_T))\n",
    "print(cvrmse_Total)"
   ]
  },
  {
   "cell_type": "code",
   "execution_count": 56,
   "id": "f94d548e",
   "metadata": {},
   "outputs": [
    {
     "name": "stdout",
     "output_type": "stream",
     "text": [
      "4.161706428164686\n"
     ]
    }
   ],
   "source": [
    "#CVRMSE_Total (2021 vs HVAC)\n",
    "cvrmse_Total = cvrmse(np.array(RO_Actual_2021_T), np.array(RO_Predict_HVAC_T))\n",
    "print(cvrmse_Total)"
   ]
  },
  {
   "cell_type": "code",
   "execution_count": 57,
   "id": "5a5bd573",
   "metadata": {},
   "outputs": [
    {
     "name": "stdout",
     "output_type": "stream",
     "text": [
      "7.525151476014081\n"
     ]
    }
   ],
   "source": [
    "#CVRMSE_Total (2021 vs Ideal)\n",
    "cvrmse_Total = cvrmse(np.array(RO_Actual_2021_T), np.array(RO_Predict_Ideal_T))\n",
    "print(cvrmse_Total)"
   ]
  },
  {
   "cell_type": "code",
   "execution_count": null,
   "id": "272e6302",
   "metadata": {},
   "outputs": [],
   "source": []
  },
  {
   "cell_type": "code",
   "execution_count": 58,
   "id": "4a856507",
   "metadata": {},
   "outputs": [
    {
     "name": "stdout",
     "output_type": "stream",
     "text": [
      "2.301038230074295\n"
     ]
    }
   ],
   "source": [
    "#RO_NMBE_Total (2014 vs HVAC)\n",
    "nmbe_Total = nmbe(np.array(RO_Actual_2014_T), np.array(RO_Predict_HVAC_T))\n",
    "print(nmbe_Total)"
   ]
  },
  {
   "cell_type": "code",
   "execution_count": 59,
   "id": "5e3cf8c9",
   "metadata": {},
   "outputs": [
    {
     "name": "stdout",
     "output_type": "stream",
     "text": [
      "5.392247992170325\n"
     ]
    }
   ],
   "source": [
    "#NMBE_Total (2014 vs Ideal)\n",
    "nmbe_Total = nmbe(np.array(RO_Actual_2014_T), np.array(RO_Predict_Ideal_T))\n",
    "print(nmbe_Total)"
   ]
  },
  {
   "cell_type": "code",
   "execution_count": 60,
   "id": "b522c95a",
   "metadata": {},
   "outputs": [
    {
     "name": "stdout",
     "output_type": "stream",
     "text": [
      "2.8504722653776566\n"
     ]
    }
   ],
   "source": [
    "#RO_NMBE_Total (2020 vs HVAC)\n",
    "nmbe_Total = nmbe(np.array(RO_Actual_2020_T), np.array(RO_Predict_HVAC_T))\n",
    "print(nmbe_Total)"
   ]
  },
  {
   "cell_type": "code",
   "execution_count": 61,
   "id": "b9f26a2d",
   "metadata": {},
   "outputs": [
    {
     "name": "stdout",
     "output_type": "stream",
     "text": [
      "5.9187643241867205\n"
     ]
    }
   ],
   "source": [
    "#NMBE_Total (2020 vs Ideal)\n",
    "nmbe_Total = nmbe(np.array(RO_Actual_2020_T), np.array(RO_Predict_Ideal_T))\n",
    "print(nmbe_Total)"
   ]
  },
  {
   "cell_type": "code",
   "execution_count": 62,
   "id": "b4e77230",
   "metadata": {},
   "outputs": [
    {
     "name": "stdout",
     "output_type": "stream",
     "text": [
      "2.7593152153826566\n"
     ]
    }
   ],
   "source": [
    "#RO_NMBE_Total (2021 vs HVAC)\n",
    "nmbe_Total = nmbe(np.array(RO_Actual_2021_T), np.array(RO_Predict_HVAC_T))\n",
    "print(nmbe_Total)"
   ]
  },
  {
   "cell_type": "code",
   "execution_count": 63,
   "id": "11327444",
   "metadata": {},
   "outputs": [
    {
     "name": "stdout",
     "output_type": "stream",
     "text": [
      "5.918763964093863\n"
     ]
    }
   ],
   "source": [
    "#NMBE_Total (2021 vs Ideal)\n",
    "nmbe_Total = nmbe(np.array(RO_Actual_2021_T), np.array(RO_Predict_Ideal_T))\n",
    "print(nmbe_Total)"
   ]
  },
  {
   "cell_type": "code",
   "execution_count": null,
   "id": "301dcd14",
   "metadata": {},
   "outputs": [],
   "source": []
  },
  {
   "cell_type": "code",
   "execution_count": 64,
   "id": "5ffffa6c",
   "metadata": {},
   "outputs": [],
   "source": [
    "#NMBE_Modify Predicted Model\n",
    "#Data assign\n",
    "Mo_Actual_2014_T = np.array([[743273, 1305385, 1037589, 440151, 391747, 423296, 504991, 420479, 391384, 274410, 847183, 775330]])\n",
    "Mo_Actual_2020_T = np.array([[1798984, 1350709, 1009770, 433552, 398813, 424608, 502394, 626325, 376662, 288325, 870438, 728662]])\n",
    "Mo_Actual_2021_T = np.array([[1798984, 1305385, 1037589, 440151, 391747, 423296, 504991, 618791, 391384, 274410, 847183, 775330]])\n",
    "Mo_Predict_Ideal_T = np.array([[1707709, 1326338, 1085499, 401187, 391689, 410522, 516985, 624779, 381147, 214579, 841122, 742305]])\n",
    "Mo_Predict_HVAC_T = np.array([[1777874, 1351993, 1011467, 416623, 395056, 393405, 509268, 632145, 398914, 329850, 856277, 785555]])"
   ]
  },
  {
   "cell_type": "code",
   "execution_count": 65,
   "id": "3dfc0ab9",
   "metadata": {
    "scrolled": true
   },
   "outputs": [
    {
     "name": "stdout",
     "output_type": "stream",
     "text": [
      "4.416841871429562\n"
     ]
    }
   ],
   "source": [
    "#CVRMSE_Total (2014 vs HVAC)\n",
    "cvrmse_Total = cvrmse(np.array(Mo_Actual_2014_T), np.array(Mo_Predict_HVAC_T))\n",
    "print(cvrmse_Total)"
   ]
  },
  {
   "cell_type": "code",
   "execution_count": 66,
   "id": "514a0295",
   "metadata": {},
   "outputs": [
    {
     "name": "stdout",
     "output_type": "stream",
     "text": [
      "4.128954281197207\n"
     ]
    }
   ],
   "source": [
    "#CVRMSE_Total (2014 vs Ideal)\n",
    "cvrmse_Total = cvrmse(np.array(Mo_Actual_2014_T), np.array(Mo_Predict_Ideal_T))\n",
    "print(cvrmse_Total)"
   ]
  },
  {
   "cell_type": "code",
   "execution_count": 67,
   "id": "cbdddc9b",
   "metadata": {},
   "outputs": [
    {
     "name": "stdout",
     "output_type": "stream",
     "text": [
      "0.3088160758768407\n"
     ]
    }
   ],
   "source": [
    "#CVRMSE_Total (2020 vs HVAC)\n",
    "cvrmse_Total = cvrmse(np.array(Mo_Actual_2020_T), np.array(Mo_Predict_HVAC_T))\n",
    "print(cvrmse_Total)"
   ]
  },
  {
   "cell_type": "code",
   "execution_count": 68,
   "id": "68c981f7",
   "metadata": {},
   "outputs": [
    {
     "name": "stdout",
     "output_type": "stream",
     "text": [
      "0.538323170095022\n"
     ]
    }
   ],
   "source": [
    "#CVRMSE_Total (2020 vs Ideal)\n",
    "cvrmse_Total = cvrmse(np.array(Mo_Actual_2020_T), np.array(Mo_Predict_Ideal_T))\n",
    "print(cvrmse_Total)"
   ]
  },
  {
   "cell_type": "code",
   "execution_count": 69,
   "id": "c309c2ea",
   "metadata": {},
   "outputs": [
    {
     "name": "stdout",
     "output_type": "stream",
     "text": [
      "0.32514463724635834\n"
     ]
    }
   ],
   "source": [
    "#CVRMSE_Total (2021 vs HVAC)\n",
    "cvrmse_Total = cvrmse(np.array(Mo_Actual_2021_T), np.array(Mo_Predict_HVAC_T))\n",
    "print(cvrmse_Total)"
   ]
  },
  {
   "cell_type": "code",
   "execution_count": 70,
   "id": "9968bff3",
   "metadata": {},
   "outputs": [
    {
     "name": "stdout",
     "output_type": "stream",
     "text": [
      "0.4761221045952166\n"
     ]
    }
   ],
   "source": [
    "#CVRMSE_Total (2021 vs Ideal)\n",
    "cvrmse_Total = cvrmse(np.array(Mo_Actual_2021_T), np.array(Mo_Predict_Ideal_T))\n",
    "print(cvrmse_Total)"
   ]
  },
  {
   "cell_type": "code",
   "execution_count": null,
   "id": "14f4356b",
   "metadata": {},
   "outputs": [],
   "source": []
  },
  {
   "cell_type": "code",
   "execution_count": 71,
   "id": "47ec8f6d",
   "metadata": {},
   "outputs": [
    {
     "name": "stdout",
     "output_type": "stream",
     "text": [
      "1.7595196519087266\n"
     ]
    }
   ],
   "source": [
    "#RO_NMBE_Total (2014 vs HVAC)\n",
    "nmbe_Total = nmbe(np.array(Mo_Actual_2014_T), np.array(Mo_Predict_HVAC_T))\n",
    "print(nmbe_Total)"
   ]
  },
  {
   "cell_type": "code",
   "execution_count": 72,
   "id": "62e04db1",
   "metadata": {},
   "outputs": [
    {
     "name": "stdout",
     "output_type": "stream",
     "text": [
      "1.6972532337012884\n"
     ]
    }
   ],
   "source": [
    "#NMBE_Total (2014 vs Ideal)\n",
    "nmbe_Total = nmbe(np.array(Mo_Actual_2014_T), np.array(Mo_Predict_Ideal_T))\n",
    "print(nmbe_Total)"
   ]
  },
  {
   "cell_type": "code",
   "execution_count": 73,
   "id": "3507e157",
   "metadata": {},
   "outputs": [
    {
     "name": "stdout",
     "output_type": "stream",
     "text": [
      "0.23065135869393036\n"
     ]
    }
   ],
   "source": [
    "#RO_NMBE_Total (2020 vs HVAC)\n",
    "nmbe_Total = nmbe(np.array(Mo_Actual_2020_T), np.array(Mo_Predict_HVAC_T))\n",
    "print(nmbe_Total)"
   ]
  },
  {
   "cell_type": "code",
   "execution_count": 74,
   "id": "cae11424",
   "metadata": {},
   "outputs": [
    {
     "name": "stdout",
     "output_type": "stream",
     "text": [
      "0.3944999416005889\n"
     ]
    }
   ],
   "source": [
    "#NMBE_Total (2020 vs Ideal)\n",
    "nmbe_Total = nmbe(np.array(Mo_Actual_2020_T), np.array(Mo_Predict_Ideal_T))\n",
    "print(nmbe_Total)"
   ]
  },
  {
   "cell_type": "code",
   "execution_count": 75,
   "id": "4a3c5580",
   "metadata": {},
   "outputs": [
    {
     "name": "stdout",
     "output_type": "stream",
     "text": [
      "0.2584971436657978\n"
     ]
    }
   ],
   "source": [
    "#RO_NMBE_Total (2021 vs HVAC)\n",
    "nmbe_Total = nmbe(np.array(Mo_Actual_2021_T), np.array(Mo_Predict_HVAC_T))\n",
    "print(nmbe_Total)"
   ]
  },
  {
   "cell_type": "code",
   "execution_count": 76,
   "id": "fbe4b4bd",
   "metadata": {},
   "outputs": [
    {
     "name": "stdout",
     "output_type": "stream",
     "text": [
      "0.349911478804422\n"
     ]
    }
   ],
   "source": [
    "#NMBE_Total (2021 vs Ideal)\n",
    "nmbe_Total = nmbe(np.array(Mo_Actual_2021_T), np.array(Mo_Predict_Ideal_T))\n",
    "print(nmbe_Total)"
   ]
  },
  {
   "cell_type": "code",
   "execution_count": null,
   "id": "c45c1fcd",
   "metadata": {},
   "outputs": [],
   "source": []
  },
  {
   "cell_type": "code",
   "execution_count": 77,
   "id": "bd5ef5b6",
   "metadata": {},
   "outputs": [],
   "source": [
    "#Removed Outlier_CVRMSE_Total\n",
    "#Data assign\n",
    "Mod_Actual_2014_T = np.array([[743273, 1305385, 1037589, 440151, 391747, 423296, 504991, 420479, 391384, 274410, 847183, 775330]])\n",
    "Mod_Actual_2020_T = np.array([[1798984, 1350709, 1009770, 433552, 398813, 424608, 502394, 626325, 376662, 288325, 870438, 728662]])\n",
    "Mod_Actual_2021_T = np.array([[1798984, 1305385, 1037589, 440151, 391747, 423296, 504991, 618791, 391384, 274410, 847183, 775330]])\n",
    "Mod_Predict_Ideal_T = np.array([[3407709, 3326338, 3285499, 3201187, 3201689, 1210522, 1216985, 1224779, 1201147, 1214579, 1241122, 1342305]])\n",
    "Mod_Predict_HVAC_T = np.array([[2977874, 3751993, 3611467, 3416623, 695056, 1393405, 1409268, 1432145, 1398914, 129850, 1496277, 1795555]])"
   ]
  },
  {
   "cell_type": "code",
   "execution_count": 78,
   "id": "ccaabcbd",
   "metadata": {
    "scrolled": true
   },
   "outputs": [
    {
     "name": "stdout",
     "output_type": "stream",
     "text": [
      "23.5185510132486\n"
     ]
    }
   ],
   "source": [
    "#CVRMSE_Total (2014 vs HVAC)\n",
    "cvrmse_Total = cvrmse(np.array(Mod_Actual_2014_T), np.array(Mod_Predict_HVAC_T))\n",
    "print(cvrmse_Total)"
   ]
  },
  {
   "cell_type": "code",
   "execution_count": 79,
   "id": "394fe58b",
   "metadata": {},
   "outputs": [
    {
     "name": "stdout",
     "output_type": "stream",
     "text": [
      "24.850966258866233\n"
     ]
    }
   ],
   "source": [
    "#CVRMSE_Total (2014 vs Ideal)\n",
    "cvrmse_Total = cvrmse(np.array(Mod_Actual_2014_T), np.array(Mod_Predict_Ideal_T))\n",
    "print(cvrmse_Total)"
   ]
  },
  {
   "cell_type": "code",
   "execution_count": 80,
   "id": "ead618d0",
   "metadata": {},
   "outputs": [
    {
     "name": "stdout",
     "output_type": "stream",
     "text": [
      "0.3088160758768407\n"
     ]
    }
   ],
   "source": [
    "#CVRMSE_Total (2020 vs HVAC)\n",
    "cvrmse_Total = cvrmse(np.array(Mod_Actual_2020_T), np.array(Mo_Predict_HVAC_T))\n",
    "print(cvrmse_Total)"
   ]
  },
  {
   "cell_type": "code",
   "execution_count": 81,
   "id": "632f034a",
   "metadata": {},
   "outputs": [
    {
     "name": "stdout",
     "output_type": "stream",
     "text": [
      "19.815223999434007\n"
     ]
    }
   ],
   "source": [
    "#CVRMSE_Total (2020 vs Ideal)\n",
    "cvrmse_Total = cvrmse(np.array(Mod_Actual_2020_T), np.array(Mod_Predict_Ideal_T))\n",
    "print(cvrmse_Total)"
   ]
  },
  {
   "cell_type": "code",
   "execution_count": 82,
   "id": "aac70559",
   "metadata": {},
   "outputs": [
    {
     "name": "stdout",
     "output_type": "stream",
     "text": [
      "18.87259437419177\n"
     ]
    }
   ],
   "source": [
    "#CVRMSE_Total (2021 vs HVAC)\n",
    "cvrmse_Total = cvrmse(np.array(Mod_Actual_2021_T), np.array(Mod_Predict_HVAC_T))\n",
    "print(cvrmse_Total)"
   ]
  },
  {
   "cell_type": "code",
   "execution_count": 83,
   "id": "ece1e077",
   "metadata": {},
   "outputs": [
    {
     "name": "stdout",
     "output_type": "stream",
     "text": [
      "19.82506042304337\n"
     ]
    }
   ],
   "source": [
    "#CVRMSE_Total (2021 vs Ideal)\n",
    "cvrmse_Total = cvrmse(np.array(Mod_Actual_2021_T), np.array(Mod_Predict_Ideal_T))\n",
    "print(cvrmse_Total)"
   ]
  },
  {
   "cell_type": "code",
   "execution_count": null,
   "id": "deeefb4f",
   "metadata": {},
   "outputs": [],
   "source": []
  },
  {
   "cell_type": "code",
   "execution_count": 84,
   "id": "9a31ad73",
   "metadata": {},
   "outputs": [
    {
     "name": "stdout",
     "output_type": "stream",
     "text": [
      "19.543782371817247\n"
     ]
    }
   ],
   "source": [
    "#RO_NMBE_Total (2014 vs HVAC)\n",
    "nmbe_Total = nmbe(np.array(Mod_Actual_2014_T), np.array(Mod_Predict_HVAC_T))\n",
    "print(nmbe_Total)"
   ]
  },
  {
   "cell_type": "code",
   "execution_count": 85,
   "id": "b116e3f8",
   "metadata": {},
   "outputs": [
    {
     "name": "stdout",
     "output_type": "stream",
     "text": [
      "21.079522908417854\n"
     ]
    }
   ],
   "source": [
    "#NMBE_Total (2014 vs Ideal)\n",
    "nmbe_Total = nmbe(np.array(Mod_Actual_2014_T), np.array(Mod_Predict_Ideal_T))\n",
    "print(nmbe_Total)"
   ]
  },
  {
   "cell_type": "code",
   "execution_count": 86,
   "id": "a0bfc7d0",
   "metadata": {},
   "outputs": [
    {
     "name": "stdout",
     "output_type": "stream",
     "text": [
      "15.496261560508632\n"
     ]
    }
   ],
   "source": [
    "#RO_NMBE_Total (2020 vs HVAC)\n",
    "nmbe_Total = nmbe(np.array(Mod_Actual_2020_T), np.array(Mod_Predict_HVAC_T))\n",
    "print(nmbe_Total)"
   ]
  },
  {
   "cell_type": "code",
   "execution_count": 87,
   "id": "b035b40d",
   "metadata": {},
   "outputs": [
    {
     "name": "stdout",
     "output_type": "stream",
     "text": [
      "16.78466464280045\n"
     ]
    }
   ],
   "source": [
    "#NMBE_Total (2020 vs Ideal)\n",
    "nmbe_Total = nmbe(np.array(Mod_Actual_2020_T), np.array(Mod_Predict_Ideal_T))\n",
    "print(nmbe_Total)"
   ]
  },
  {
   "cell_type": "code",
   "execution_count": 88,
   "id": "33768eef",
   "metadata": {},
   "outputs": [
    {
     "name": "stdout",
     "output_type": "stream",
     "text": [
      "15.467544510670928\n"
     ]
    }
   ],
   "source": [
    "#RO_NMBE_Total (2021 vs HVAC)\n",
    "nmbe_Total = nmbe(np.array(Mod_Actual_2021_T), np.array(Mod_Predict_HVAC_T))\n",
    "print(nmbe_Total)"
   ]
  },
  {
   "cell_type": "code",
   "execution_count": 89,
   "id": "ab861cb2",
   "metadata": {},
   "outputs": [
    {
     "name": "stdout",
     "output_type": "stream",
     "text": [
      "16.784667580122036\n"
     ]
    }
   ],
   "source": [
    "#NMBE_Total (2021 vs Ideal)\n",
    "nmbe_Total = nmbe(np.array(Mod_Actual_2021_T), np.array(Mod_Predict_Ideal_T))\n",
    "print(nmbe_Total)"
   ]
  },
  {
   "cell_type": "code",
   "execution_count": null,
   "id": "7cbc6f60",
   "metadata": {},
   "outputs": [],
   "source": []
  },
  {
   "cell_type": "code",
   "execution_count": null,
   "id": "61c06c0d",
   "metadata": {},
   "outputs": [],
   "source": []
  },
  {
   "cell_type": "code",
   "execution_count": null,
   "id": "126aedad",
   "metadata": {},
   "outputs": [],
   "source": []
  },
  {
   "cell_type": "code",
   "execution_count": null,
   "id": "5526f9c8",
   "metadata": {},
   "outputs": [],
   "source": []
  },
  {
   "cell_type": "code",
   "execution_count": null,
   "id": "4c4b13be",
   "metadata": {},
   "outputs": [],
   "source": []
  },
  {
   "cell_type": "code",
   "execution_count": null,
   "id": "8d928473",
   "metadata": {},
   "outputs": [],
   "source": []
  },
  {
   "cell_type": "code",
   "execution_count": null,
   "id": "7fe85a1d",
   "metadata": {},
   "outputs": [],
   "source": []
  },
  {
   "cell_type": "code",
   "execution_count": null,
   "id": "9f0ef78a",
   "metadata": {},
   "outputs": [],
   "source": []
  },
  {
   "cell_type": "code",
   "execution_count": null,
   "id": "4b2f61eb",
   "metadata": {},
   "outputs": [],
   "source": []
  },
  {
   "cell_type": "code",
   "execution_count": null,
   "id": "dbb9ec2e",
   "metadata": {},
   "outputs": [],
   "source": []
  },
  {
   "cell_type": "code",
   "execution_count": null,
   "id": "6d20497d",
   "metadata": {},
   "outputs": [],
   "source": []
  },
  {
   "cell_type": "code",
   "execution_count": null,
   "id": "e7dc693d",
   "metadata": {},
   "outputs": [],
   "source": []
  },
  {
   "cell_type": "code",
   "execution_count": null,
   "id": "c917de47",
   "metadata": {},
   "outputs": [],
   "source": []
  },
  {
   "cell_type": "code",
   "execution_count": null,
   "id": "beb18b19",
   "metadata": {},
   "outputs": [],
   "source": []
  },
  {
   "cell_type": "code",
   "execution_count": null,
   "id": "1d9530cc",
   "metadata": {},
   "outputs": [],
   "source": []
  },
  {
   "cell_type": "code",
   "execution_count": null,
   "id": "c3c33f8f",
   "metadata": {},
   "outputs": [],
   "source": []
  },
  {
   "cell_type": "code",
   "execution_count": null,
   "id": "4fd16a7b",
   "metadata": {},
   "outputs": [],
   "source": []
  },
  {
   "cell_type": "code",
   "execution_count": null,
   "id": "eafb3849",
   "metadata": {},
   "outputs": [],
   "source": []
  }
 ],
 "metadata": {
  "kernelspec": {
   "display_name": "Python 3 (ipykernel)",
   "language": "python",
   "name": "python3"
  },
  "language_info": {
   "codemirror_mode": {
    "name": "ipython",
    "version": 3
   },
   "file_extension": ".py",
   "mimetype": "text/x-python",
   "name": "python",
   "nbconvert_exporter": "python",
   "pygments_lexer": "ipython3",
   "version": "3.9.12"
  }
 },
 "nbformat": 4,
 "nbformat_minor": 5
}
